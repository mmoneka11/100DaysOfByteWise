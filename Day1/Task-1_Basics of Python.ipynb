{
 "cells": [
  {
   "cell_type": "markdown",
   "id": "39dac24a",
   "metadata": {},
   "source": [
    "<div style=\"text-align:center; background-color: #1e90ff; padding: 10px;\">\n",
    "  <h1>Task 1: Basics of Python</h1>\n",
    "    <h3> **Python Tasks and Expected Outputs**</h3>\n",
    "</div>\n",
    "\n",
    "\n",
    "Deadline: 11 June 2024\n",
    "\n",
    "### ___________________  \n",
    "\n",
    "***@Bytewiseltd***\n"
   ]
  },
  {
   "cell_type": "code",
   "execution_count": 33,
   "id": "26207327",
   "metadata": {},
   "outputs": [
    {
     "name": "stdout",
     "output_type": "stream",
     "text": [
      "                                                                                                \u001b[1;46m**~By:Moneka**\u001b[0m\n"
     ]
    }
   ],
   "source": [
    "# print(\"\\033[1;44m\" + \"**~By:Moneka**\".center(110) + \"\\033[0m\")\n",
    "print(\" \" * (110 - len(\"**~By:Moneka**\")) + \"\\033[1;46m\" + \"**~By:Moneka**\" + \"\\033[0m\")"
   ]
  },
  {
   "cell_type": "markdown",
   "id": "7d2fe37c",
   "metadata": {},
   "source": [
    "### **Exercise: Sum of Two Numbers**\n",
    "\n",
    "**Task: Write a program that takes two numbers from the user and prints their sum.**\n",
    "\n",
    "    Expected Output:\n",
    "    Enter first number: 3\n",
    "    Enter second number: 4\n",
    "    The sum is: 7.0"
   ]
  },
  {
   "cell_type": "code",
   "execution_count": 4,
   "id": "eea1d643",
   "metadata": {},
   "outputs": [
    {
     "name": "stdout",
     "output_type": "stream",
     "text": [
      "Enter first number: 3\n",
      "Enter second number: 4\n",
      "The sum of 3 and 4 is: 7.0\n"
     ]
    }
   ],
   "source": [
    "# Program:\n",
    "\n",
    "# Taking user inputs\n",
    "num1=input('Enter first number: ')\n",
    "num2=input('Enter second number: ')\n",
    "# Sum of numbers\n",
    "total= float(num1)+float(num2)\n",
    "# Print output\n",
    "print(f'The sum of {num1} and {num2} is: {total}')"
   ]
  },
  {
   "cell_type": "markdown",
   "id": "07742cea",
   "metadata": {},
   "source": [
    "### **Exercise : Area of a Circle**\n",
    "**Task: Write a program to calculate the area of a circle given its radius.**\n",
    "\n",
    "    Expected Output:\n",
    "    Enter the radius of the circle: 5\n",
    "    The area of the circle is: 78.53981633974483\n"
   ]
  },
  {
   "cell_type": "code",
   "execution_count": 6,
   "id": "0df861c1",
   "metadata": {},
   "outputs": [
    {
     "name": "stdout",
     "output_type": "stream",
     "text": [
      "Enter the radius of the circle: 5\n",
      "The area of the circle is: 78.53981633974483\n"
     ]
    }
   ],
   "source": [
    "# Program:\n",
    "\n",
    "import math as M\n",
    "circle_radius=int(input('Enter the radius of the circle: '))\n",
    "circle_area= (M.pi)*((circle_radius)**2)\n",
    "print(f'The area of the circle is: {circle_area}')"
   ]
  },
  {
   "cell_type": "markdown",
   "id": "36d6f8a9",
   "metadata": {},
   "source": [
    "### **Exercise: Even or Odd**\n",
    "**Task: Write a program that checks if a number is even or odd.**\n",
    "\n",
    "    Expected Output:\n",
    "    Enter a number: 7\n",
    "    7 is odd"
   ]
  },
  {
   "cell_type": "code",
   "execution_count": 37,
   "id": "63f3f0e7",
   "metadata": {},
   "outputs": [
    {
     "name": "stdout",
     "output_type": "stream",
     "text": [
      "Enter a number: 7\n",
      "7 is odd\n"
     ]
    }
   ],
   "source": [
    "# Program:\n",
    "\n",
    "num=int(input('Enter a number: '))\n",
    "if num%2==0:\n",
    "    print(f'{num} is even')\n",
    "else:\n",
    "    print(f'{num} is odd')"
   ]
  },
  {
   "cell_type": "markdown",
   "id": "89ba1929",
   "metadata": {},
   "source": [
    "### **Exercise: Simple Calculator**\n",
    "**Task: Write a program that performs basic arithmetic operations (addition, subtraction, multiplication, division) based on user input.**\n",
    "\n",
    "    Expected Output:\n",
    "    Enter first number: 10\n",
    "    Enter second number: 3\n",
    "    Enter operation (+, -, *, /): /\n",
    "    The result is: 3.3333333333333335\n"
   ]
  },
  {
   "cell_type": "code",
   "execution_count": 43,
   "id": "b5c86d0c",
   "metadata": {},
   "outputs": [
    {
     "name": "stdout",
     "output_type": "stream",
     "text": [
      "Enter first number: 10\n",
      "Enter second number: 3\n",
      "Enter operation (+,-,*,/): /\n",
      "The result is: 3.3333333333333335\n"
     ]
    }
   ],
   "source": [
    "# Program:\n",
    "\n",
    "num1=float(input('Enter first number: '))\n",
    "num2=float(input('Enter second number: '))\n",
    "operation=input('Enter operation (+,-,*,/): ') \n",
    "if operation=='+':\n",
    "    result=num1+num2\n",
    "    print(f'The result is: {result}')\n",
    "elif operation=='-':\n",
    "    result=num1-num2\n",
    "    print(f'The result is: {result}')\n",
    "elif  operation=='*':\n",
    "    result=num1*num2\n",
    "    print(f'The result is: {result}')\n",
    "elif  operation=='/':\n",
    "    result=num1/num2\n",
    "    print(f'The result is: {result}')"
   ]
  },
  {
   "cell_type": "markdown",
   "id": "2e8c77f0",
   "metadata": {},
   "source": [
    "### **Exercise: Find the Largest Number**\n",
    "**Task:Write a program to find the largest of three numbers.**\n",
    "\n",
    "    Expected Output:\n",
    "    Enter first number: 7\n",
    "    Enter second number: 15\n",
    "    Enter third number: 10\n",
    "    The largest number is: 15"
   ]
  },
  {
   "cell_type": "code",
   "execution_count": 4,
   "id": "940224e5",
   "metadata": {},
   "outputs": [
    {
     "name": "stdout",
     "output_type": "stream",
     "text": [
      "Enter first number: 7\n",
      "Enter second number: 15\n",
      "Enter third number: 10\n",
      "The largest number is: 15\n"
     ]
    }
   ],
   "source": [
    "# Program:\n",
    "\n",
    "def larger(num1,num2):\n",
    "    if num1>num2:\n",
    "         return num1\n",
    "    return num2\n",
    "def largest(num,num3):\n",
    "    if num>num3:\n",
    "         return num\n",
    "    return num3\n",
    "\n",
    "num1= int(input('Enter first number: '))\n",
    "num2= int(input('Enter second number: '))\n",
    "num3= int(input('Enter third number: '))\n",
    "\n",
    "largest_num=largest(larger(num1,num2),num3)\n",
    "print(f'The largest number is: {largest_num}')"
   ]
  },
  {
   "cell_type": "markdown",
   "id": "57ac37c1",
   "metadata": {},
   "source": [
    "### **Exercise: Reverse a String**\n",
    "**Task: Write a program that takes a string from the user and prints it in reverse.**\n",
    "\n",
    "    Expected Output:\n",
    "    Enter a string: hello\n",
    "    The reversed string is: olleh\n"
   ]
  },
  {
   "cell_type": "code",
   "execution_count": 6,
   "id": "2b42b2e6",
   "metadata": {},
   "outputs": [
    {
     "name": "stdout",
     "output_type": "stream",
     "text": [
      "Enter a string:hello\n",
      "The reversed string is: olleh\n"
     ]
    }
   ],
   "source": [
    "# Program:\n",
    "\n",
    "string=input('Enter a string:')\n",
    "reverse_string=string[::-1]\n",
    "print(f'The reversed string is: {reverse_string}')"
   ]
  },
  {
   "cell_type": "markdown",
   "id": "39486d39",
   "metadata": {},
   "source": [
    "\n",
    "### **Exercise: Count Vowels**\n",
    "**Task: Write a program that counts the number of vowels in a given string.**\n",
    "\n",
    "    Expected Output:\n",
    "    Enter a string: Nimra Waqar\n",
    "    The number of vowels is: 4"
   ]
  },
  {
   "cell_type": "code",
   "execution_count": 17,
   "id": "75adaaa3",
   "metadata": {},
   "outputs": [
    {
     "name": "stdout",
     "output_type": "stream",
     "text": [
      "Enter a string: Nimra Waqar\n",
      "The number of vowels is: 4\n"
     ]
    }
   ],
   "source": [
    "# Program:\n",
    "\n",
    "string=input('Enter a string: ')\n",
    "vowels=['a','e', 'i', 'o', 'u']\n",
    "vowels_count=0\n",
    "for i in string:\n",
    "    if i in vowels:\n",
    "        vowels_count+=1       \n",
    "print('The number of vowels is: '+str(vowels_count))"
   ]
  },
  {
   "cell_type": "markdown",
   "id": "f814b897",
   "metadata": {},
   "source": [
    "### **Exercise : Fibonacci Sequence**\n",
    "**Task: Write a program to print the Fibonacci sequence up to n terms.**\n",
    "\n",
    "    Expected Output:\n",
    "    How many terms? 5\n",
    "    Fibonacci sequence:\n",
    "    0 1 1 2 3 \n",
    "\n"
   ]
  },
  {
   "cell_type": "markdown",
   "id": "751f07b2",
   "metadata": {},
   "source": [
    "*Note:* The Fibonacci sequence is a series of numbers where each number is the sum of the two preceding ones, usually starting with 0 and 1. So, it goes like this: 0, 1, 1, 2, 3, 5, 8, 13, 21, and so forth. The sequence can be defined by the recurrence relation:\n",
    "\n",
    "𝐹\n",
    "(\n",
    "𝑛\n",
    ")\n",
    "=\n",
    "𝐹\n",
    "(\n",
    "𝑛\n",
    "−\n",
    "1\n",
    ")\n",
    "+\n",
    "𝐹\n",
    "(\n",
    "𝑛\n",
    "−\n",
    "2\n",
    ")\n",
    "F(n)=F(n−1)+F(n−2)\n",
    "\n",
    "where \n",
    "𝐹\n",
    "(\n",
    "0\n",
    ")\n",
    "=\n",
    "0\n",
    "F(0)=0 and \n",
    "𝐹\n",
    "(\n",
    "1\n",
    ")\n",
    "=\n",
    "1\n",
    "F(1)=1. It's a fascinating sequence that appears in various areas of mathematics and nature."
   ]
  },
  {
   "cell_type": "code",
   "execution_count": 31,
   "id": "39d92e69",
   "metadata": {},
   "outputs": [
    {
     "name": "stdout",
     "output_type": "stream",
     "text": [
      "How many terms? 5\n",
      "Fibonacci sequence:\n",
      "0 1 1 2 3 \n"
     ]
    }
   ],
   "source": [
    "# Program:\n",
    "\n",
    "# # Take terms as input \n",
    "# num_terms=int(input('How many terms? '))\n",
    "# # Print f-series \n",
    "# print(\"Fibonacci sequence:\")\n",
    "\n",
    "# # Initialize the first two terms of the sequence\n",
    "# a, b = 0, 1\n",
    "# # Print the first two terms\n",
    "# print(a, b, end=\" \")\n",
    "\n",
    "# # Generate and print the next terms \n",
    "# for _ in range(num_terms-2):\n",
    "#     # Calculate the next term\n",
    "#     c = a + b\n",
    "#     # Update the values for the next iteration\n",
    "#     a, b = b, c\n",
    "#     # Print the next term\n",
    "#     print(c, end=\" \")\n",
    "\n",
    "\n",
    "# Define funcction\n",
    "def fibonacci(n):\n",
    "    print(\"Fibonacci sequence:\")\n",
    "    # Initialize the first two terms of the sequence\n",
    "    term_f = 0\n",
    "    term_mid = 1\n",
    "    # Print the first two terms\n",
    "    print(term_f, term_mid, end=\" \")\n",
    "    # Generate and print the next terms\n",
    "    for _ in range(3, n + 1):\n",
    "        term_n = term_f + term_mid\n",
    "        # Update the values for the next iteration\n",
    "        term_f, term_mid = term_mid, term_n # term_f, term_mid = term_mid, term_f + term_mid\n",
    "        # Print the next term\n",
    "        print(term_n, end=\" \")\n",
    "    # Print a newline after the sequence\n",
    "    print()  \n",
    "\n",
    "# Generate the defined terms of the Fibonacci sequence\n",
    "num_terms = int(input('How many terms? '))\n",
    "fibonacci(num_terms)\n"
   ]
  },
  {
   "cell_type": "markdown",
   "id": "5dfbf811",
   "metadata": {},
   "source": [
    "\n",
    "### **Exercise: Check for Palindrome**\n",
    "**Task: Write a program to check if a given string is a palindrome.**\n",
    "\n",
    "    Expected Output:\n",
    "    Enter a string: radar\n",
    "    radar is a palindrome"
   ]
  },
  {
   "cell_type": "code",
   "execution_count": 31,
   "id": "c914da2d",
   "metadata": {},
   "outputs": [
    {
     "name": "stdout",
     "output_type": "stream",
     "text": [
      "Enter a string: radar\n",
      "radar is palindrome\n"
     ]
    }
   ],
   "source": [
    "# Program:\n",
    "\n",
    "def is_palindrome(string):\n",
    "    if string == string[::-1]:\n",
    "         print(f'{string} is palindrome')\n",
    "    else:\n",
    "         print(f'{string} is not palindrome')\n",
    "    \n",
    "string=input('Enter a string: ')\n",
    "is_palindrome(string)"
   ]
  }
 ],
 "metadata": {
  "kernelspec": {
   "display_name": "Python 3 (ipykernel)",
   "language": "python",
   "name": "python3"
  },
  "language_info": {
   "codemirror_mode": {
    "name": "ipython",
    "version": 3
   },
   "file_extension": ".py",
   "mimetype": "text/x-python",
   "name": "python",
   "nbconvert_exporter": "python",
   "pygments_lexer": "ipython3",
   "version": "3.11.3"
  }
 },
 "nbformat": 4,
 "nbformat_minor": 5
}
