{
 "cells": [
  {
   "cell_type": "markdown",
   "id": "c0b96df6",
   "metadata": {},
   "source": [
    "<!-- Task Title -->\n",
    "\n",
    "<div style=\"background-color: #708090; padding: 20px; border-radius: 10px; box-shadow: 5px 5px 10px #888888;\">\n",
    "  <h1 style=\"color: white; font-size: 30px; font-weight: bold; text-align: center; text-shadow: 2px 2px 4px #000000;\">** Task 6: ML Tasks🤖📚💻**</h1>\n",
    "</div> \n",
    "  \n",
    "\n",
    "<!-- Image Section -->\n",
    " \n",
    "<p>\n",
    "<div style=\"text-align: center\">\n",
    "    <img src=\"https://pyimagesearch.com/wp-content/uploads/2019/01/python_ml_header.png\" width=\"800\" alt=\"ML with Python\">\n",
    "    <br>\n",
    "    <strong>ML in Python</strong> \n",
    "    <em>(Image Source: <a href=\"https://pyimagesearch.com/2019/01/14/machine-learning-in-python/\">pyimagesearch.com)</a></em>\n",
    "    <br>    \n",
    "</div>\n",
    "</p>\n"
   ]
  },
  {
   "cell_type": "markdown",
   "id": "dce1bf8f",
   "metadata": {},
   "source": [
    "**Topics Covered:**\n",
    "    \n",
    "- Understanding what Machine Learning \n",
    "- Types of Machine Learning: Supervised, Unsupervised, Reinforcement Learning.\n",
    "- Basic terminology: datasets, features, labels, training, testing.\n",
    "- Introduction to NumPy and Pandas for data manipulation.\n",
    "- Python basics: data types, control structures, functions.\n",
    "\n",
    "\n",
    "**Study Material:**\n",
    "\n",
    "Machine Learning Tutorial: https://www.geeksforgeeks.org/machine-learning/\n",
    "        \n",
    "Supervised and Unsupervised learning: https://www.geeksforgeeks.org/supervised-unsupervised-learning/\n",
    "        \n",
    "Pandas and NumPy Exercise for Data Analysis: https://www.geeksforgeeks.org/pandas-and-numpy-exercies-for-data-analysis/\n",
    "\n",
    "What is Feature Engineering?: https://www.geeksforgeeks.org/what-is-feature-engineering/\n",
    "\n",
    "\n"
   ]
  },
  {
   "cell_type": "markdown",
   "id": "f9f9bd24",
   "metadata": {},
   "source": [
    "__________________________________________\n",
    "\n",
    "<!-- <span style=\"background-color: #1A237E; color: white; padding: 5px; font-weight: bold; font-family: 'Times New Roman', Times, serif; font-style: italic;\">~ Moneka</span> -->\n",
    "\n",
    "<div style=\"text-align: right;\">\n",
    "    <span style=\"background-color: #1A237E; color: white; padding: 5px; font-weight: bold; font-family: 'Times New Roman', Times, serif; font-style: italic;\">~ Moneka</span>\n",
    "</div>\n",
    "\n",
    "_________________________________________"
   ]
  },
  {
   "cell_type": "markdown",
   "id": "aa8a3320",
   "metadata": {},
   "source": [
    "<h1> <center><span style=\"background-color: #4682B4; color: white; padding: 5px; font-weight: bold; font-family: 'Times New Roman', Times, serif; font-style: underlined;\">Tasks: </span></center></h1>\n",
    "\n",
    "\n",
    "**Deadline: 29 June 2024**\n",
    "###### ___________________  \n",
    "\n",
    "***@Bytewiseltd***\n",
    "_______________________________________________________________________________________________________________________________\n",
    "\n",
    "**Exercise1:** Load a simple dataset (e.g., the Iris dataset from Scikit-Learn) and print the first 5 rows.\n",
    "\n",
    "**Exercise2:** Implement a function that takes a dataset and returns the number of features and samples.\n",
    "\n",
    "**Exercise3:** Split a dataset into training and testing sets with an 80/20 split.\n",
    "\n",
    "**Exercise4:** Explore the basic statistics of a dataset, such as mean, median, and standard deviation for each feature.\n",
    "\n",
    "**Exercise5:** Visualize the distribution of one of the features in the dataset using a histogram.\n",
    "\n",
    "**Exercise6:** Write a Python script to create a list of 10 numbers and compute their mean.\n",
    "\n",
    "**Exercise7:** Create a function that takes a list of numbers and returns a dictionary with the count, mean, median, and standard deviation.\n",
    "\n",
    "**Exercise8:** Generate a 5x5 matrix of random numbers and print it.\n",
    "\n",
    "**Exercise9:** Load a CSV file into a Pandas DataFrame and print summary statistics for each column.\n",
    "\n",
    "**Exercise10:** Implement a simple linear regression model using Scikit-Learn and print the model coefficients\n"
   ]
  },
  {
   "cell_type": "markdown",
   "id": "cfa63042",
   "metadata": {},
   "source": [
    "\n",
    "### ***Let's dive into solutions:***\n"
   ]
  },
  {
   "cell_type": "markdown",
   "id": "7ddb7396",
   "metadata": {},
   "source": [
    "### **Ex:1**\n",
    "\n",
    "*To load dataset & printing its top5 rows. We can use seaborn or sklearn library for datasets altogether with panda library.\n",
    "Here we're using seaborn function`load_dataset()` and pandas function `.head()`:*"
   ]
  },
  {
   "cell_type": "code",
   "execution_count": 10,
   "id": "eeb72807",
   "metadata": {},
   "outputs": [
    {
     "name": "stdout",
     "output_type": "stream",
     "text": [
      "First 5 rows of the Iris dataset:\n",
      "   sepal_length  sepal_width  petal_length  petal_width species\n",
      "0           5.1          3.5           1.4          0.2  setosa\n",
      "1           4.9          3.0           1.4          0.2  setosa\n",
      "2           4.7          3.2           1.3          0.2  setosa\n",
      "3           4.6          3.1           1.5          0.2  setosa\n",
      "4           5.0          3.6           1.4          0.2  setosa\n"
     ]
    }
   ],
   "source": [
    "# Program:\n",
    "\n",
    "# Imports:\n",
    "import seaborn as sns\n",
    "\n",
    "# Load the Iris dataset\n",
    "iris = sns.load_dataset('iris')\n",
    "\n",
    "# Print the first 5 rows of the dataset\n",
    "print(\"First 5 rows of the Iris dataset:\")\n",
    "print(iris.head(5))"
   ]
  },
  {
   "cell_type": "markdown",
   "id": "ea332cb7",
   "metadata": {},
   "source": [
    "### **Ex:2**\n",
    "\n",
    "*To define Function to get the number of features (columns) and samples (rows) of a dataset, we can use `shape`attribute for dimension:*"
   ]
  },
  {
   "cell_type": "code",
   "execution_count": 2,
   "id": "8e207b4c",
   "metadata": {},
   "outputs": [
    {
     "name": "stdout",
     "output_type": "stream",
     "text": [
      "Number of features:5\n",
      "Number of samples:150\n"
     ]
    }
   ],
   "source": [
    "# Program:\n",
    "\n",
    "                # Steps:\n",
    "                    # -Do necessary imports if any\n",
    "                    # -Define the Function\n",
    "                    # -Create a function that accepts a pandas DataFrame as input.\n",
    "                    # -Extract Dimensions: Use DataFrame attributes to extract the number of columns (features) and rows (samples).\n",
    "                    # -Return the Dimensions: Return these values as a tuple or any suitable format.\n",
    "\n",
    "import pandas as pd\n",
    "import seaborn as sns\n",
    "\n",
    "def get_dimensions(dataset):\n",
    "    num_features = dataset.shape[1] # No. of columns (features)\n",
    "    num_samples = dataset.shape[0] # No. of rows (samples)\n",
    "    # return tuple containing both (rows,columns)\n",
    "    return num_features, num_samples\n",
    "\n",
    "# Taking iris dataset for usage:\n",
    "iris= sns.load_dataset('iris')\n",
    "\n",
    "num_features, num_samples = get_dimensions(iris)\n",
    "\n",
    "print(f\"Number of features:{num_features}\")\n",
    "print(f\"Number of samples:{num_samples}\")"
   ]
  },
  {
   "cell_type": "markdown",
   "id": "fbac825c",
   "metadata": {},
   "source": [
    "### **Ex:3**\n",
    "\n",
    "*For this exercise we can make a use of `train_test_split function`, this function splits arrays or matrices into random train and test subsets.* \n",
    "\n",
    "*By making `test_size=0.2` which specifies that 20% of the data should be used for testing (i.e., an 80/20 split).*\n"
   ]
  },
  {
   "cell_type": "code",
   "execution_count": 9,
   "id": "2c554ce3",
   "metadata": {},
   "outputs": [
    {
     "name": "stdout",
     "output_type": "stream",
     "text": [
      "Shape of X_train: (120, 4)\n",
      "Shape of X_test: (30, 4)\n",
      "Shape of y_train: (120,)\n",
      "Shape of y_test: (30,)\n"
     ]
    }
   ],
   "source": [
    "# Program:\n",
    "\n",
    "# Import Libraries\n",
    "import pandas as pd\n",
    "import seaborn as sns\n",
    "from sklearn.model_selection import train_test_split\n",
    "\n",
    "# Load dataset\n",
    "iris= sns.load_dataset('iris')\n",
    "\n",
    "# Seperate features (X) and target variable (y).\n",
    "X= iris.drop('species', axis=1)  # Features (all columns except 'species')\n",
    "y= iris['species'] # Target variable ('species' column)\n",
    "\n",
    "# Split the dataset into training and testing sets with an 80/20 split\n",
    "X_train, X_test, y_train, y_test = train_test_split(X,y, test_size=0.2, random_state=42)\n",
    "\n",
    "# Print the shapes of the training and testing sets\n",
    "print(\"Shape of X_train:\", X_train.shape)\n",
    "print(\"Shape of X_test:\", X_test.shape)\n",
    "print(\"Shape of y_train:\", y_train.shape)\n",
    "print(\"Shape of y_test:\", y_test.shape)"
   ]
  },
  {
   "cell_type": "markdown",
   "id": "56897d56",
   "metadata": {},
   "source": [
    "### **Ex:4**\n",
    "\n",
    "*Exploring basic features of basic statistics of a dataset, such as mean, median, and standard deviation for each feature.*\n"
   ]
  },
  {
   "cell_type": "markdown",
   "id": "d9b47a19",
   "metadata": {},
   "source": [
    "*For this we can use pandas and numpy's built-in functions:  `mean(), median(),std()`*\n"
   ]
  },
  {
   "cell_type": "code",
   "execution_count": 13,
   "id": "beb1c28d",
   "metadata": {},
   "outputs": [
    {
     "name": "stdout",
     "output_type": "stream",
     "text": [
      "Basic statistics of the Iris dataset:\n",
      "\n",
      "Mean values for each feature:\n",
      "sepal_length    5.843333\n",
      "sepal_width     3.057333\n",
      "petal_length    3.758000\n",
      "petal_width     1.199333\n",
      "dtype: float64\n",
      "\n",
      "Median values for each feature:\n",
      "sepal_length    5.80\n",
      "sepal_width     3.00\n",
      "petal_length    4.35\n",
      "petal_width     1.30\n",
      "dtype: float64\n",
      "\n",
      "Standard deviation values for each feature:\n",
      "sepal_length    0.828066\n",
      "sepal_width     0.435866\n",
      "petal_length    1.765298\n",
      "petal_width     0.762238\n",
      "dtype: float64\n"
     ]
    }
   ],
   "source": [
    "# Program:\n",
    "\n",
    "# Exploring basic stats of iris dataset (loaded from sns)\n",
    "\n",
    "# Calculate mean, median, and standard deviation for each feature\n",
    "mean_val=iris.mean(numeric_only=True)\n",
    "median_val=iris.median(numeric_only=True)\n",
    "std_val=iris.std(numeric_only=True)\n",
    "\n",
    "# Print the statistics\n",
    "print(\"Basic statistics of the Iris dataset:\")\n",
    "# Print calculated stats\n",
    "print(\"\\nMean values for each feature:\")\n",
    "print(mean_val)\n",
    "print(\"\\nMedian values for each feature:\")\n",
    "print(median_val)\n",
    "print(\"\\nStandard deviation values for each feature:\")\n",
    "print(std_val)\n"
   ]
  },
  {
   "cell_type": "markdown",
   "id": "76518bd6",
   "metadata": {},
   "source": [
    "*We can also use pandas' `describe()` function for summary statistics:*"
   ]
  },
  {
   "cell_type": "code",
   "execution_count": 18,
   "id": "b8b3e5b4",
   "metadata": {},
   "outputs": [
    {
     "name": "stdout",
     "output_type": "stream",
     "text": [
      "       sepal_length  sepal_width  petal_length  petal_width\n",
      "count    150.000000   150.000000    150.000000   150.000000\n",
      "mean       5.843333     3.057333      3.758000     1.199333\n",
      "std        0.828066     0.435866      1.765298     0.762238\n",
      "min        4.300000     2.000000      1.000000     0.100000\n",
      "25%        5.100000     2.800000      1.600000     0.300000\n",
      "50%        5.800000     3.000000      4.350000     1.300000\n",
      "75%        6.400000     3.300000      5.100000     1.800000\n",
      "max        7.900000     4.400000      6.900000     2.500000\n"
     ]
    }
   ],
   "source": [
    "# Program:\n",
    "\n",
    "# Display basic statistics (mean, median, std) for each numerical feature\n",
    "stats = iris.describe()\n",
    "print(stats)"
   ]
  },
  {
   "cell_type": "markdown",
   "id": "c9e6304d",
   "metadata": {},
   "source": [
    "*Although `describe()` gives summary of all necessary statistics but you can extract required ones by using `loc[]` method :*"
   ]
  },
  {
   "cell_type": "code",
   "execution_count": 13,
   "id": "67cba399",
   "metadata": {},
   "outputs": [
    {
     "name": "stdout",
     "output_type": "stream",
     "text": [
      "      sepal_length  sepal_width  petal_length  petal_width\n",
      "mean      5.843333     3.057333      3.758000     1.199333\n",
      "50%       5.800000     3.000000      4.350000     1.300000\n",
      "std       0.828066     0.435866      1.765298     0.762238\n"
     ]
    }
   ],
   "source": [
    "# Describe the DataFrame to get basic statistics\n",
    "\n",
    "stats = iris.describe()\n",
    "# print(stats)\n",
    "\n",
    "# Extract specific statistics (mean, median, std)\n",
    "specific_stats = stats.loc[['mean', '50%', 'std']]\n",
    "\n",
    "print(specific_stats)\n",
    "\n",
    "# Note 50% refers to median."
   ]
  },
  {
   "cell_type": "markdown",
   "id": "271bef4a",
   "metadata": {},
   "source": [
    "### **Ex:5**\n",
    "*To visualize the distribution of one of the features in the Iris dataset we can leverage the power of seaborn and matplotlib libraries in Python.* "
   ]
  },
  {
   "cell_type": "code",
   "execution_count": 14,
   "id": "7e447815",
   "metadata": {},
   "outputs": [
    {
     "data": {
      "image/png": "[encoded data removed]",
      "text/plain": [
       "<Figure size 800x600 with 1 Axes>"
      ]
     },
     "metadata": {},
     "output_type": "display_data"
    }
   ],
   "source": [
    "# Program:\n",
    "              # Steps:\n",
    "                    # Import Libraries\n",
    "                    # Load Dataset\n",
    "                    # Choose Feature\n",
    "                    # Set Plot Style\n",
    "                    # Create Figure and Axes\n",
    "                    # Plot Histogram\n",
    "                    # Customize Labels and Title\n",
    "                    # Add Legend\n",
    "                    # Show Plot\n",
    "\n",
    "# Import Libraries\n",
    "import matplotlib.pyplot as plt\n",
    "import seaborn as sns\n",
    "\n",
    "# Load Iris Dataset \n",
    "\n",
    "# Choose a feature to visualize (here 'sepal_length')\n",
    "feature = 'sepal_length'\n",
    "\n",
    "# Set up plot style and color palette\n",
    "sns.set(style='whitegrid', palette='pastel')\n",
    "\n",
    "# Create a figure with specific size\n",
    "plt.figure(figsize=(8,6))\n",
    "\n",
    "# Plot the histogram with seaborn\n",
    "sns.histplot(data=iris, x=feature, kde=True, bins=20, hue='species', multiple ='stack', palette='bright')\n",
    "\n",
    "# Customize labels and title\n",
    "plt.title(f'Distribution of {feature.capitalize()} in Iris Dataset', fontsize=17)\n",
    "plt.xlabel(f'{feature.capitalize()}(cm)',fontsize=14)\n",
    "plt.ylabel('Count', fontsize=15)\n",
    "\n",
    "# Add a legend with a title\n",
    "# plt.legend()   # legend added to differentiate species \n",
    "\n",
    "# Show plot\n",
    "plt.show()\n"
   ]
  },
  {
   "cell_type": "markdown",
   "id": "a5d4ff22",
   "metadata": {},
   "source": [
    "### **Ex:6**\n",
    "*For writing a Python script to creating a list (10 numbers) and compute their mean, we could use any of the following ways:*\n"
   ]
  },
  {
   "cell_type": "markdown",
   "id": "051909d2",
   "metadata": {},
   "source": [
    "*1. Using Basic Python Functions: We can define list `[]`or use python's `range()` and `list()` functions to generate a list of numbers. And then calculate mean using formula `Sum/Count`:*"
   ]
  },
  {
   "cell_type": "code",
   "execution_count": 18,
   "id": "a4a45a4d",
   "metadata": {},
   "outputs": [
    {
     "name": "stdout",
     "output_type": "stream",
     "text": [
      "List of 10 numbers: [1, 2, 3, 4, 5, 6, 7, 8, 9, 10]\n",
      "Mean of the numbers: 5.5\n"
     ]
    }
   ],
   "source": [
    "# Program:\n",
    "            # Basic Python\n",
    "\n",
    "# Define a list of 10 numbers\n",
    "# num_l = [23, 45, 12, 67, 89, 34, 56, 78, 90, 21]\n",
    "# Create a list of 10 numbers \n",
    "num_l = list(range(1,11))\n",
    "\n",
    "# Calculate the mean (average) of the numbers\n",
    "mean = sum(num_l)/len(num_l)  # Total/Count\n",
    "\n",
    "# Print the list of numbers and their mean\n",
    "print(f\"List of {len(num_l)} numbers:\", num_l)\n",
    "print(\"Mean of the numbers:\", mean)"
   ]
  },
  {
   "cell_type": "markdown",
   "id": "3b708732",
   "metadata": {},
   "source": [
    "*2. Either way is using Python Libraries:*"
   ]
  },
  {
   "cell_type": "markdown",
   "id": "59f982ef",
   "metadata": {},
   "source": [
    "*We may use NumPy `mean()` function for mean calculation.*\n",
    "\n",
    "*And for generating list we could use `random.randint()` in case of array or `pd.Series(np.random.randint())`in case of series.\n",
    "But as far as list is concerned here then we could've converted these to list using `list()`*"
   ]
  },
  {
   "cell_type": "code",
   "execution_count": 34,
   "id": "2238d444",
   "metadata": {},
   "outputs": [
    {
     "name": "stdout",
     "output_type": "stream",
     "text": [
      "Numpy Array of 10 numbers:\n",
      "0    10\n",
      "1     7\n",
      "2     7\n",
      "3     1\n",
      "4    10\n",
      "5     7\n",
      "6     9\n",
      "7     3\n",
      "8     3\n",
      "9     5\n",
      "dtype: int32\n",
      "\n",
      "Mean of the numbers: 5.9\n"
     ]
    }
   ],
   "source": [
    "# Program:\n",
    "            # Using Python Libraries\n",
    "    \n",
    "import numpy as np\n",
    "import pandas as pd\n",
    "\n",
    "# Generate a Pandas Series or NumPy array of 10 random numbers between 1 and 11 (for 10 numbers)\n",
    "# num_np = np.random.randint(1,11, size=10)              # array\n",
    "# num_pd = pd.Series(np.random.randint(1,11, size =10))  # series\n",
    "num_l = list(np.random.randint(1,11, size=10))           # list\n",
    "\n",
    "# type(num_l)\n",
    "\n",
    "# Calculate the mean (average) of the numbers using NumPy\n",
    "# mean = np.mean(num_np)\n",
    "\n",
    "# Print the NumPy array\n",
    "print(f\"Numpy Array of 10 numbers:\\n{num_pd}\")\n",
    "# Print the mean of numbers\n",
    "print(f\"\\nMean of the numbers: {mean}\")\n"
   ]
  },
  {
   "cell_type": "markdown",
   "id": "d8a237b7",
   "metadata": {},
   "source": [
    "*But you may have used `random.choice()` instead because it gives unique sampling:*"
   ]
  },
  {
   "cell_type": "code",
   "execution_count": 3,
   "id": "7d2145e2",
   "metadata": {},
   "outputs": [
    {
     "name": "stdout",
     "output_type": "stream",
     "text": [
      "List of numbers: [3, 2, 5, 4, 10, 8, 7, 1, 9, 6]\n",
      "Mean of the numbers: 5.5\n"
     ]
    }
   ],
   "source": [
    "# Program:\n",
    "\n",
    "import numpy as np\n",
    "\n",
    "# Generate a list of 10 unique random numbers between 1 and 10\n",
    "numbers = list(np.random.choice(range(1, 11), size=10, replace=False))  # without replacement\n",
    "\n",
    "# Calculate the mean (average) of the numbers using NumPy\n",
    "mean = np.mean(numbers)\n",
    "\n",
    "# Print the list of numbers and their mean\n",
    "print(\"List of numbers:\", numbers)\n",
    "print(\"Mean of the numbers:\", mean)\n"
   ]
  },
  {
   "cell_type": "markdown",
   "id": "24a9ff56",
   "metadata": {},
   "source": [
    "### **Ex:7**\n",
    "\n",
    "Creating a function that takes a list of numbers and returns a dictionary with the count, mean, median, and standard deviation:"
   ]
  },
  {
   "cell_type": "markdown",
   "id": "496bd498",
   "metadata": {},
   "source": [
    "`**Note:**`The describe() function by default includes percentiles, but you can exclude them by passing an empty list percentiles=[].\n",
    "\n",
    "1. In this, for stats we could make use of Pandas' `Series()` and `describe()` function together. And for extracting specific stats `loc[]` method is being used here:"
   ]
  },
  {
   "cell_type": "code",
   "execution_count": 39,
   "id": "d1ef4b98",
   "metadata": {},
   "outputs": [
    {
     "name": "stdout",
     "output_type": "stream",
     "text": [
      "Dictionary of Statistics: {'count': 5.0, 'mean': 30.0, '50%': 30.0, 'std': 15.811388300841896}\n"
     ]
    }
   ],
   "source": [
    "# Program:\n",
    "\n",
    "# Import pandas\n",
    "import pandas as pd\n",
    "\n",
    "# Define Function\n",
    "def descr(l):\n",
    "    # Convert list to series\n",
    "    series = pd.Series(l, name='num')\n",
    "    \n",
    "    # Calculate specific statistics\n",
    "    # describe_s = series.describe(percentiles=[])\n",
    "    describe_s = series.describe().loc[['count','mean', '50%', 'std']]\n",
    "\n",
    "    # Convert Series to dictionary\n",
    "    descr_dict = describe_s.to_dict()\n",
    "    \n",
    "    return descr_dict  \n",
    "\n",
    "# Define list\n",
    "l = [10, 20, 30, 40, 50]\n",
    "# Call the function and capture the returned dictionary\n",
    "result = descr(l)\n",
    "print('Dictionary of Statistics:',result)\n",
    "\n"
   ]
  },
  {
   "cell_type": "markdown",
   "id": "8c16e14a",
   "metadata": {},
   "source": [
    "*2. We could simply use functions `[count','mean', 'median', 'std']`:*\n",
    "\n",
    "*Check out this reference for count():* \n",
    "\n",
    "- [Count non-na-values in a row of column](https://www.educative.io/answers/how-to-take-count-of-non-na-values-in-a-column-or-row)\n",
    "\n",
    "- [Count Function in Python](https://www.simplilearn.com/tutorials/python-tutorial/count-in-python#:~:text=Count()%20is%20a%20Python,list%2C%20as%20the%20name%20implies.)\n"
   ]
  },
  {
   "cell_type": "code",
   "execution_count": 2,
   "id": "9f60c658",
   "metadata": {},
   "outputs": [
    {
     "name": "stdout",
     "output_type": "stream",
     "text": [
      "Dictionary of Statistics: {'Count': 15, 'Mean': 4.533333333333333, 'Median': 4.0, 'Standard_Deviation': 3.363860216411431}\n"
     ]
    }
   ],
   "source": [
    "# Program:\n",
    "\n",
    "# Import libraries\n",
    "import numpy as np\n",
    "import pandas as pd\n",
    "\n",
    "# Define Function\n",
    "def stats(num_l):\n",
    "    \n",
    "    # Initializing dict for stats\n",
    "    dict_stats = {}\n",
    "    # Convert input list to numpy array\n",
    "    arr=np.array(num_l)\n",
    "    \n",
    "    # Count(total no. of non-null values in list/array)\n",
    "         # Convert array to series then apply pandas's count() for total count\n",
    "    ser=pd.Series(arr) \n",
    "    dict_stats['Count']=ser.count()\n",
    "    # Mean\n",
    "    dict_stats['Mean']=np.mean(arr)\n",
    "    # Median\n",
    "    dict_stats['Median']=np.median(arr)\n",
    "    #Standard_Deviation\n",
    "    dict_stats['Standard_Deviation']=np.std(arr)\n",
    "\n",
    "    # Return dictionary containing updated statistics\n",
    "    return dict_stats\n",
    "   \n",
    "    \n",
    "# Generate/Define an example list:\n",
    "# num_l = list(range(15))\n",
    "num_l=[1,2,3,1,1,4,5,6,8,1,1,7,7,10,11]\n",
    "\n",
    "# Call function to get statistics\n",
    "statistics = stats(num_l)\n",
    "# Print final dictionary of statistics\n",
    "print('Dictionary of Statistics:',statistics)\n"
   ]
  },
  {
   "cell_type": "markdown",
   "id": "b09ab4cb",
   "metadata": {},
   "source": [
    "We can also modify above code for Count(occurence of particular element or substring) using pandas `count()` function:"
   ]
  },
  {
   "cell_type": "code",
   "execution_count": 14,
   "id": "7b3565ee",
   "metadata": {},
   "outputs": [
    {
     "name": "stdout",
     "output_type": "stream",
     "text": [
      "\n",
      "Do you want to count occurrences of a particular element or substring? (Y/N)\n",
      "Enter 'Y' for Yes or any other key for No: y\n",
      "Enter the element or substring to count: 7\n",
      "Dictionary of Statistics: {'Count': 15, 'Element_Count': 2, 'Mean': 4.533333333333333, 'Median': 4.0, 'Standard_Deviation': 3.363860216411431}\n"
     ]
    }
   ],
   "source": [
    "# Program:\n",
    "\n",
    "# Import libraries\n",
    "import numpy as np\n",
    "import pandas as pd\n",
    "\n",
    "# Define Function\n",
    "def stats(num_l):\n",
    "    \n",
    "    # Initializing dict for stats\n",
    "    dict_stats = {}\n",
    "    # Convert input list to numpy array\n",
    "    arr=np.array(num_l)\n",
    "    \n",
    "    # Count(total no. of non-null values in list/array)\n",
    "         # Convert array to series then apply pandas's count() for total count\n",
    "    ser=pd.Series(arr) \n",
    "    dict_stats['Count']=ser.count()\n",
    "    # Count(occurence of particular element or substring)\n",
    "        # Prompt user to ask if they want to count occurrences of a particular element or substring\n",
    "    print(\"\\nDo you want to count occurrences of a particular element or substring? (Y/N)\")\n",
    "    user_input = input(\"Enter 'Y' for Yes or any other key for No: \").upper() \n",
    "    if user_input.upper() == 'Y':\n",
    "        element_to_count = input(\"Enter the element or substring to count: \")\n",
    "        # Check if input is a number\n",
    "        if element_to_count.isdigit():  \n",
    "            element_to_count = int(element_to_count)\n",
    "            count_result = num_l.count(element_to_count)\n",
    "        else:\n",
    "            count_result = num_l.count(element_to_count)\n",
    "       # Store the count results in the dictionary\n",
    "        dict_stats['Element_Count'] = count_result \n",
    "    else:\n",
    "         dict_stats['Element_Count']=None\n",
    "    \n",
    "    # Mean\n",
    "    dict_stats['Mean']=np.mean(arr)\n",
    "    # Median\n",
    "    dict_stats['Median']=np.median(arr)\n",
    "    #Standard_Deviation\n",
    "    dict_stats['Standard_Deviation']=np.std(arr)\n",
    "\n",
    "    # Return dictionary containing updated statistics\n",
    "    return dict_stats\n",
    "   \n",
    "    \n",
    "# Generate/Define an example list:\n",
    "# num_l = list(range(15))\n",
    "num_l=[1,2,3,1,1,4,5,6,8,1,1,7,7,10,11]\n",
    "\n",
    "# Call function to get statistics\n",
    "statistics = stats(num_l)\n",
    "# Print final dictionary of statistics\n",
    "print('Dictionary of Statistics:',statistics)\n",
    "\n"
   ]
  },
  {
   "cell_type": "markdown",
   "id": "c440272e",
   "metadata": {},
   "source": [
    "### **Ex:8**\n",
    "\n",
    "*Generating & printing a 5x5 matrix of random numbers:*\n",
    "\n",
    "*We can make use of NumPy `random.randint()` function*"
   ]
  },
  {
   "cell_type": "code",
   "execution_count": 20,
   "id": "107896ba",
   "metadata": {},
   "outputs": [
    {
     "name": "stdout",
     "output_type": "stream",
     "text": [
      "Generated 5x5 matrix of random numbers:\n",
      "[[80 35 36 31  3]\n",
      " [64 18 12 60 88]\n",
      " [80 18 12 40 80]\n",
      " [87 16 58 19 42]\n",
      " [21 34 25 84 15]]\n"
     ]
    }
   ],
   "source": [
    "# Program:\n",
    "\n",
    "import numpy as np\n",
    "\n",
    "# Generate a 5x5 matrix of random integers\n",
    "matrix_5x5=np.random.randint(1,100,size=(5,5))\n",
    "\n",
    "# Print matrix\n",
    "print(\"Generated 5x5 matrix of random numbers:\")\n",
    "print(matrix_5x5)\n"
   ]
  },
  {
   "cell_type": "markdown",
   "id": "67dc106a",
   "metadata": {},
   "source": [
    "### **Ex:9**\n",
    "\n",
    "*We can create our own CSV data and utilize Pandas' `read_csv()` function to read from a file and `describe()` function for summary statistics, demonstrating file-handling capabilities:*"
   ]
  },
  {
   "cell_type": "code",
   "execution_count": 11,
   "id": "0bf73ece",
   "metadata": {},
   "outputs": [
    {
     "name": "stdout",
     "output_type": "stream",
     "text": [
      "File 'data_generated.csv' has been successfully written.\n",
      "\n",
      "\t\tDataFrame:\n",
      "\n",
      "       Name  Age  Height  Weight\n",
      "0    Alice   25     165    68.5\n",
      "1      Bob   30     180    75.2\n",
      "2  Charlie   28     175    80.0\n",
      "3    David   32     178    82.3\n",
      "\n",
      "\t\tSummary Statistics:\n",
      "             Age      Height     Weight\n",
      "count   4.000000    4.000000   4.000000\n",
      "mean   28.750000  174.500000  76.500000\n",
      "std     2.986079    6.658328   6.098634\n",
      "min    25.000000  165.000000  68.500000\n",
      "25%    27.250000  172.500000  73.525000\n",
      "50%    29.000000  176.500000  77.600000\n",
      "75%    30.500000  178.500000  80.575000\n",
      "max    32.000000  180.000000  82.300000\n"
     ]
    }
   ],
   "source": [
    "# Program:\n",
    "\n",
    "import pandas as pd\n",
    "import os\n",
    "\n",
    "# Generated CSV data\n",
    "csv_data = \"\"\"\n",
    "Name,Age,Height,Weight\n",
    "Alice,25,165,68.5\n",
    "Bob,30,180,75.2\n",
    "Charlie,28,175,80.0\n",
    "David,32,178,82.3\n",
    "\"\"\"\n",
    "\n",
    "# File Handling\n",
    "\n",
    "# Write CSV data to a file\n",
    "file_path = 'data_generated.csv'\n",
    "with open(file_path,'w') as f:\n",
    "    f.write(csv_data)\n",
    "\n",
    "# Check if file exists & print a message\n",
    "if os.path.isfile(file_path):\n",
    "    print(f\"File '{file_path}' has been successfully written.\" )\n",
    "    \n",
    "# Load CSV into DataFrame\n",
    "df= pd.read_csv(file_path)\n",
    "\n",
    "# Print DataFrame to verify\n",
    "print('\\n\\t\\tDataFrame:\\n\\n',df)\n",
    "\n",
    "# Now Printing Summary Statistics for each column:\n",
    "summary_stats = df.describe()\n",
    "print(f'\\n\\t\\tSummary Statistics:\\n{summary_stats}')"
   ]
  },
  {
   "cell_type": "markdown",
   "id": "8852f962",
   "metadata": {},
   "source": [
    "*We also have the option to load data from a dataset file:* "
   ]
  },
  {
   "cell_type": "code",
   "execution_count": 15,
   "id": "5ab652bf",
   "metadata": {},
   "outputs": [
    {
     "name": "stdout",
     "output_type": "stream",
     "text": [
      "Summary Statistics of Numeric Columns:\n",
      "       Height (cm)\n",
      "count     5.000000\n",
      "mean    177.200000\n",
      "std       4.969909\n",
      "min     170.000000\n",
      "25%     175.000000\n",
      "50%     178.000000\n",
      "75%     180.000000\n",
      "max     183.000000\n",
      "\n",
      "Summary Statistics Categorical Columns:\n",
      "       Name\n",
      "count     5\n",
      "unique    5\n",
      "top     Ali\n",
      "freq      1\n"
     ]
    }
   ],
   "source": [
    "# Program:\n",
    "\n",
    "# Import libraries\n",
    "import pandas as pd\n",
    "\n",
    "# Load CSV file into df\n",
    "df= pd.read_csv('sample_dataset.csv')\n",
    "# print(df.sample(3))\n",
    "\n",
    "# Print summary stats for numerical features\n",
    "summary_stats = df.describe()\n",
    "print(f'Summary Statistics of Numeric Columns:\\n{summary_stats}')\n",
    "\n",
    "# Print summary stats for categorical features\n",
    "summary_stats = df.describe(include='object')\n",
    "print(f'\\nSummary Statistics Categorical Columns:\\n{summary_stats}')"
   ]
  },
  {
   "cell_type": "markdown",
   "id": "23807c3b",
   "metadata": {},
   "source": [
    "### **Ex:10**\n",
    "\n",
    "*Implementing a simple linear regression model using `sklearn` i.e Scikit-Learn and printing the model coefficients using `coef_` and `intercept_` attributes from sklearn:*"
   ]
  },
  {
   "cell_type": "code",
   "execution_count": 5,
   "id": "c6864117",
   "metadata": {},
   "outputs": [
    {
     "name": "stdout",
     "output_type": "stream",
     "text": [
      "Coefficient: [[2.96846751]]\n",
      "Intercept: [4.22215108]\n"
     ]
    }
   ],
   "source": [
    "# Program:\n",
    "\n",
    "# Imports\n",
    "import numpy as np\n",
    "from sklearn.linear_model import LinearRegression\n",
    "\n",
    "# Initializing the random number generator with a specific starting point i.e Set random seed for reproducibility\n",
    "np.random.seed(0)\n",
    "\n",
    "# Generate some sample data\n",
    "X = 2 * np.random.rand(100, 1)   # Generate 100 random numbers between 0 and 2\n",
    "y = 4 + 3 * X + np.random.randn(100, 1)  # y = 4 + 3*X + noise\n",
    "\n",
    "# Create a Linear Regression model\n",
    "model = LinearRegression()\n",
    "\n",
    "# Fit the model\n",
    "model.fit(X, y)\n",
    "\n",
    "# Print the coefficients\n",
    "print(\"Coefficient:\", model.coef_)\n",
    "print(\"Intercept:\", model.intercept_)\n"
   ]
  },
  {
   "cell_type": "markdown",
   "id": "506d7020",
   "metadata": {},
   "source": [
    "`Note:` \n",
    "\n",
    "- The initial values used (4 and 3 in the exampleas as  intercept (beta_0) & slope (beta_1)) are just for generating synthetic data (y) to demonstrate how the model works.\n",
    "\n",
    "- In real-world applications, you don't know the exact values of the coefficients beforehand. Instead, the linear regression model learns them from the data based on the patterns it finds in the data during the training process.\n",
    "\n",
    "- `np.random.randn` commonly used for simulating noise in statistical models or for initializing weights in neural networks. It is used when you need random numbers from a standard normal distribution (mean = 0, variance = 1).. \n",
    "\n",
    "- `np.random.rand` often used for generating initial data points or random samples. It is when you need random numbers uniformly distributed between (0, 1)"
   ]
  },
  {
   "cell_type": "markdown",
   "id": "98577621",
   "metadata": {},
   "source": [
    "______________________________________________________________________________________________________________________________"
   ]
  }
 ],
 "metadata": {
  "kernelspec": {
   "display_name": "Python 3 (ipykernel)",
   "language": "python",
   "name": "python3"
  },
  "language_info": {
   "codemirror_mode": {
    "name": "ipython",
    "version": 3
   },
   "file_extension": ".py",
   "mimetype": "text/x-python",
   "name": "python",
   "nbconvert_exporter": "python",
   "pygments_lexer": "ipython3",
   "version": "3.11.3"
  }
 },
 "nbformat": 4,
 "nbformat_minor": 5
}
