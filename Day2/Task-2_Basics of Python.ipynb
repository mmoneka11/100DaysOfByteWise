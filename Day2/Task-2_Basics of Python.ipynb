{
 "cells": [
  {
   "cell_type": "markdown",
   "id": "d8531965",
   "metadata": {},
   "source": [
    "<div style=\"text-align:center; background-color: #1e90ff; padding: 10px;\">\n",
    "  <h1>Task 2: Basics of Python</h1>\n",
    "    <h3> **Python Tasks and Expected Outputs**</h3>\n",
    "</div>\n",
    "\n",
    "\n",
    "Deadline: 12 June 2024\n",
    "\n",
    "### ___________________  \n",
    "\n",
    "***@Bytewiseltd***\n"
   ]
  },
  {
   "cell_type": "code",
   "execution_count": 1,
   "id": "dea40c7b",
   "metadata": {},
   "outputs": [
    {
     "name": "stdout",
     "output_type": "stream",
     "text": [
      "                                                                                                \u001b[1;46m**~By:Moneka**\u001b[0m\n"
     ]
    }
   ],
   "source": [
    "# print(\"\\033[1;44m\" + \"**~By:Moneka**\".center(110) + \"\\033[0m\")\n",
    "print(\" \" * (110 - len(\"**~By:Moneka**\")) + \"\\033[1;46m\" + \"**~By:Moneka**\" + \"\\033[0m\")"
   ]
  },
  {
   "cell_type": "markdown",
   "id": "266db536",
   "metadata": {},
   "source": [
    "## Excercises:\n",
    "\n",
    "These exercises cover more advanced Python concepts like conditional logic, loops, functions, data structures, and algorithmic thinking. They are designed to challenge intermediate-level students and help them develop more complex problem-solving skills.\n"
   ]
  },
  {
   "cell_type": "markdown",
   "id": "9f3621b3",
   "metadata": {},
   "source": [
    "**1. Palindrome Checker (Word)**\n",
    "\n",
    "• Write a program to check if a given word is a palindrome (reads the same forwards and backwards).\n",
    "\n",
    "• Expected output: \n",
    "            \n",
    "    If the input is \"racecar\", the output should be \"racecar is a palindrome.\" If the input is \"Python\",\n",
    "    output should be \"Python is not a palindrome.”"
   ]
  },
  {
   "cell_type": "code",
   "execution_count": 4,
   "id": "e8aa9bef",
   "metadata": {},
   "outputs": [
    {
     "name": "stdout",
     "output_type": "stream",
     "text": [
      "racecar is a palindrome\n",
      "Python is not a palindrome\n"
     ]
    }
   ],
   "source": [
    "# Program:\n",
    "\n",
    "def is_palindrome(word):\n",
    "    if word==word[::-1]:\n",
    "        return f'{word} is a palindrome'\n",
    "    else:\n",
    "         return f'{word} is not a palindrome'\n",
    "\n",
    "print(is_palindrome('racecar'))\n",
    "print(is_palindrome('Python'))"
   ]
  },
  {
   "cell_type": "markdown",
   "id": "807408fa",
   "metadata": {},
   "source": [
    "**2. FizzBuzz**\n",
    "\n",
    "• Write a program that prints the numbers from 1 to 100. For multiples of 3, print \"Fizz\" instead of the number, and for multiples of 5, print \"Buzz\". For numbers that are multiples of both 3 and 5, print \"FizzBuzz\".\n",
    "\n",
    "- Expected output:\n",
    "\n",
    "                 1\n",
    "                 2\n",
    "                 Fizz\n",
    "                 4\n",
    "                 Buzz\n",
    "                 Fizz\n",
    "                 7\n",
    "                 8\n",
    "                 Fizz\n",
    "                 Buzz\n",
    "                 11\n",
    "                 Fizz\n",
    "                 13\n",
    "                 14\n",
    "                 FizzBuzz\n"
   ]
  },
  {
   "cell_type": "code",
   "execution_count": 11,
   "id": "85bee9e5",
   "metadata": {},
   "outputs": [
    {
     "name": "stdout",
     "output_type": "stream",
     "text": [
      "1\n",
      "2\n",
      "Fizz\n",
      "4\n",
      "Buzz\n",
      "Fizz\n",
      "7\n",
      "8\n",
      "Fizz\n",
      "Buzz\n",
      "11\n",
      "Fizz\n",
      "13\n",
      "14\n",
      "FizzBuzz\n",
      "16\n",
      "17\n",
      "Fizz\n",
      "19\n",
      "Buzz\n",
      "Fizz\n",
      "22\n",
      "23\n",
      "Fizz\n",
      "Buzz\n",
      "26\n",
      "Fizz\n",
      "28\n",
      "29\n",
      "FizzBuzz\n",
      "31\n",
      "32\n",
      "Fizz\n",
      "34\n",
      "Buzz\n",
      "Fizz\n",
      "37\n",
      "38\n",
      "Fizz\n",
      "Buzz\n",
      "41\n",
      "Fizz\n",
      "43\n",
      "44\n",
      "FizzBuzz\n",
      "46\n",
      "47\n",
      "Fizz\n",
      "49\n",
      "Buzz\n",
      "Fizz\n",
      "52\n",
      "53\n",
      "Fizz\n",
      "Buzz\n",
      "56\n",
      "Fizz\n",
      "58\n",
      "59\n",
      "FizzBuzz\n",
      "61\n",
      "62\n",
      "Fizz\n",
      "64\n",
      "Buzz\n",
      "Fizz\n",
      "67\n",
      "68\n",
      "Fizz\n",
      "Buzz\n",
      "71\n",
      "Fizz\n",
      "73\n",
      "74\n",
      "FizzBuzz\n",
      "76\n",
      "77\n",
      "Fizz\n",
      "79\n",
      "Buzz\n",
      "Fizz\n",
      "82\n",
      "83\n",
      "Fizz\n",
      "Buzz\n",
      "86\n",
      "Fizz\n",
      "88\n",
      "89\n",
      "FizzBuzz\n",
      "91\n",
      "92\n",
      "Fizz\n",
      "94\n",
      "Buzz\n",
      "Fizz\n",
      "97\n",
      "98\n",
      "Fizz\n",
      "Buzz\n"
     ]
    }
   ],
   "source": [
    "# Program:\n",
    "\n",
    "for j in range(1, 100+1):\n",
    "    if j%5==0 and j%3==0:\n",
    "        print('FizzBuzz')         \n",
    "    elif j%3==0:\n",
    "        print('Fizz')\n",
    "    elif j%5==0:\n",
    "        print('Buzz')\n",
    "    else:\n",
    "        print(j)"
   ]
  },
  {
   "cell_type": "markdown",
   "id": "fb599bb9",
   "metadata": {},
   "source": [
    "**3. Nth Fibonacci Number**\n",
    "\n",
    "• Write a program to find the nth Fibonacci number.\n",
    "\n",
    "• Expected output: \n",
    "    \n",
    "          If the input is 10, the output should be \"The 10th Fibonacci number is 55.”\n"
   ]
  },
  {
   "cell_type": "code",
   "execution_count": 22,
   "id": "4224014b",
   "metadata": {},
   "outputs": [
    {
     "name": "stdout",
     "output_type": "stream",
     "text": [
      "Enter a value of num: 10\n",
      "The 10th fibonacci number is 55.\n"
     ]
    }
   ],
   "source": [
    "# Program:\n",
    "\n",
    "def fibonacci(num):\n",
    "    if num<0:\n",
    "        return \"Plz enter a positive integer\"\n",
    "    elif num==0:\n",
    "        return 0\n",
    "    elif num==1:\n",
    "        return 1\n",
    "    elif num==2:\n",
    "        return 1\n",
    "    else:\n",
    "        # recursively calling function \n",
    "        return fibonacci(num-1) +fibonacci(num-2)\n",
    "    \n",
    "def main():\n",
    "    num = int(input('Enter a value of num: '))\n",
    "    fib_num=fibonacci(num)\n",
    "    print(f\"The {num}th fibonacci number is {fib_num}.\")\n",
    "\n",
    "if __name__ == \"__main__\":\n",
    "        main()"
   ]
  },
  {
   "cell_type": "markdown",
   "id": "0abd215e",
   "metadata": {},
   "source": [
    "**4. Prime Number Checker**\n",
    "\n",
    "• Write a program to check if a given number is prime.\n",
    "   \n",
    "• Expected output: \n",
    "        \n",
    "    If the input is 7, the output should be \"7 is a prime number.\" If the input is 10, the output should be \"10 is not a prime number.\""
   ]
  },
  {
   "cell_type": "code",
   "execution_count": 23,
   "id": "d2d452a0",
   "metadata": {},
   "outputs": [
    {
     "name": "stdout",
     "output_type": "stream",
     "text": [
      "Enter a number: 7\n",
      "7 is a prime number.\n"
     ]
    }
   ],
   "source": [
    "# Program:\n",
    "\n",
    "# Prime function\n",
    "def is_prime(num):\n",
    "    # numbers less than 1\n",
    "    if num<=1:\n",
    "        return False\n",
    "    # numbers range from 2 to sqrt of 'num'\n",
    "    for i in range(2,int(num**(1/2))+1): \n",
    "        # check if any of numbers evenly divide 'num'\n",
    "        if num%i==0:\n",
    "            return False\n",
    "    # else return true if only num/num==0\n",
    "    return True\n",
    "\n",
    "# Main function \n",
    "def main():\n",
    "    num= int(input('Enter a number: '))\n",
    "    if is_prime(num):\n",
    "        print(f'{num} is a prime number.')\n",
    "    else:\n",
    "         print(f'{num} is not a prime number.')\n",
    "main()"
   ]
  },
  {
   "cell_type": "markdown",
   "id": "f4b803ce",
   "metadata": {},
   "source": [
    "**5. Guess the Number Game**\n",
    "\n",
    "•Write a program where the computer generates a random number, and the user has to guess it.\n",
    "\n",
    "- Expected output: \n",
    "        \n",
    "      The program should prompt the user to enter a guess and provide feedback on whether the guess is too high, too low, or correct.\n"
   ]
  },
  {
   "cell_type": "code",
   "execution_count": 28,
   "id": "49c19ad5",
   "metadata": {},
   "outputs": [
    {
     "name": "stdout",
     "output_type": "stream",
     "text": [
      "Welcome to the Number Guessing Game!\n",
      "Enter a guess number:(between 1 and 10) 1\n",
      "Too Low!\n",
      "Enter a guess number:(between 1 and 10) 4\n",
      "Too Low!\n",
      "Enter a guess number:(between 1 and 10) 7\n",
      "Too High!\n",
      "Enter a guess number:(between 1 and 10) 6\n",
      "Correct Guess!\n"
     ]
    }
   ],
   "source": [
    "# Program:\n",
    "\n",
    "import random\n",
    "\n",
    "def guess_number():\n",
    "    # generate a random number (between 1 and 10)\n",
    "    random_num=random.randint(1,10)\n",
    "    \n",
    "    while True:\n",
    "        # prompt user to guess the number\n",
    "        guess_num= int(input('Enter a guess number:(between 1 and 10) '))\n",
    "\n",
    "        # check if guess is correct\n",
    "        if guess_num ==random_num:\n",
    "            print('Correct Guess!')\n",
    "            break\n",
    "        else:\n",
    "            if guess_num >random_num:\n",
    "                print('Too High!')\n",
    "            else:\n",
    "                print('Too Low!')\n",
    "\n",
    "# Main function\n",
    "def main():\n",
    "    print(\"Welcome to the Number Guessing Game!\")\n",
    "    guess_number()\n",
    "\n",
    "if __name__ == \"__main__\":\n",
    "    main()"
   ]
  },
  {
   "cell_type": "markdown",
   "id": "954a92d1",
   "metadata": {},
   "source": [
    "**6. List Comprehension**\n",
    "\n",
    "• Write a program that uses list comprehension to create a list of squares of the first 10 integers.\n",
    "   \n",
    "    - Expected output: \n",
    "        \n",
    "        `[1, 4, 9, 16, 25, 36, 49, 64, 81, 100]`"
   ]
  },
  {
   "cell_type": "code",
   "execution_count": 31,
   "id": "23493128",
   "metadata": {},
   "outputs": [
    {
     "name": "stdout",
     "output_type": "stream",
     "text": [
      "[1, 4, 9, 16, 25, 36, 49, 64, 81, 100]\n"
     ]
    }
   ],
   "source": [
    "# Program:\n",
    "\n",
    "square_list= [i**2 for i in range(1,11)]\n",
    "print(square_list)"
   ]
  },
  {
   "cell_type": "markdown",
   "id": "d88a099c",
   "metadata": {},
   "source": [
    "**7. Palindrome Sentences**\n",
    "\n",
    "• Write a program to check if a given sentence is a palindrome (reads the same forwards and backwards, ignoring spaces and punctuation).\n",
    "\n",
    "- Expected output: \n",
    "\n",
    "       If the input is \"A man, a plan, a canal: Panama\", the output should be \"A man, a plan, a canal: Panama is a palindrome.\" If the input is \"Hello, world!\", the output should be \"Hello, world! is not a palindrome.\"\n"
   ]
  },
  {
   "cell_type": "code",
   "execution_count": 15,
   "id": "876116bc",
   "metadata": {},
   "outputs": [
    {
     "name": "stdout",
     "output_type": "stream",
     "text": [
      "Enter a sentence: A man, a plan, a canal: Panama\n",
      "A man, a plan, a canal: Panama is a palindrome.\n",
      "Enter a sentence: Hello, world!\n",
      "Hello, world! is not a palindrome.\n"
     ]
    }
   ],
   "source": [
    "# Program:\n",
    "\n",
    "import string\n",
    "\n",
    "# Define function to remove spaces and punctuation\n",
    "def remove_spaces_punctuations(s):\n",
    "    # cleaned_s=s.replace(\" \",\"\")     # remove spaces\n",
    "    # Remove punctuation and spaces, convert to lowercase\n",
    "    cleaned_s=''.join(char.lower() for char in s if char not in string.punctuation+ ' ')\n",
    "#     cleaned_s.lower()\n",
    "    return cleaned_s\n",
    "    \n",
    "# Define function to check palindrome\n",
    "def is_palindrome(s):\n",
    "        # Check if string is equal to its reverse\n",
    "        return s==s[::-1]\n",
    "\n",
    "# Main function\n",
    "def main():\n",
    "    # Input from user\n",
    "    sentence=input('Enter a sentence: ')\n",
    "    # Call remove_spaces_punctuations function to clean sentence \n",
    "    cleaned_sentence=remove_spaces_punctuations(sentence )\n",
    "    # Check if input sentence is a palindrome \n",
    "    if is_palindrome(cleaned_sentence): # True\n",
    "        print(f'{sentence} is a palindrome.')\n",
    "    else: \n",
    "        print(f'{sentence} is not a palindrome.')\n",
    "        \n",
    "# Call main function\n",
    "main()\n",
    "main()\n"
   ]
  },
  {
   "cell_type": "code",
   "execution_count": 17,
   "id": "88e9080c",
   "metadata": {},
   "outputs": [],
   "source": [
    "# # Another way:\n",
    "\n",
    "# def is_palindrome(s):\n",
    "#     # Remove non-alphanumeric characters and convert to lowercase\n",
    "#     clean_s = ''.join(char.lower() for char in s if char.isalnum())\n",
    "#     # Check if the string is equal to its reverse\n",
    "#     return clean_s == clean_s[::-1]\n",
    "\n",
    "# def check_palindrome(sentence):\n",
    "#     if is_palindrome(sentence):\n",
    "#         return f\"{sentence} is a palindrome.\"\n",
    "#     else:\n",
    "#         return f\"{sentence} is not a palindrome.\"\n",
    "\n",
    "# # Test the function\n",
    "# input1 = \"A man, a plan, a canal: Panama\"\n",
    "# input2 = \"Hello, world!\"\n",
    "\n",
    "# print(check_palindrome(input1))\n",
    "# print(check_palindrome(input2))\n"
   ]
  },
  {
   "cell_type": "markdown",
   "id": "794dd3d8",
   "metadata": {},
   "source": [
    "**8. Anagram Checker**\n",
    "\n",
    "• Write a program to check if two strings are `anagrams` (contain the same characters in a different order).\n",
    "   \n",
    "- Expected output: \n",
    "   \n",
    "      If the two strings are \"listen\" and \"silent\", the output should be \"listen and silent are anagrams.\" If the two strings are \"python\" and \"java\", the output should be \"python and java are not anagrams.\"\n"
   ]
  },
  {
   "cell_type": "code",
   "execution_count": 31,
   "id": "bbb40305",
   "metadata": {},
   "outputs": [
    {
     "name": "stdout",
     "output_type": "stream",
     "text": [
      "listen and silent are anagrams\n",
      "python and java are not anagrams\n"
     ]
    }
   ],
   "source": [
    "# Program:\n",
    "\n",
    "def are_anagrams(str1, str2):\n",
    "    for i in str1:\n",
    "        if i in str2:\n",
    "            return f'{str1} and {str2} are anagrams'\n",
    "        return f'{str1} and {str2} are not anagrams'\n",
    "    \n",
    "print(are_anagrams('listen','silent'))\n",
    "print(are_anagrams('python', 'java'))\n",
    "\n",
    "# You can take user inputs"
   ]
  },
  {
   "cell_type": "code",
   "execution_count": 26,
   "id": "a32fd3a4",
   "metadata": {},
   "outputs": [
    {
     "name": "stdout",
     "output_type": "stream",
     "text": [
      "Enter the first sring: python\n",
      "Enter the second string: java\n",
      "python and java are not anagrams.\n",
      "Enter the first sring: listen\n",
      "Enter the second string: silent\n",
      "listen and silent are anagrams.\n"
     ]
    }
   ],
   "source": [
    "# Program:\n",
    "\n",
    "def are_anagrams(str1,str2):\n",
    "    # convert both strings to lower case and remove spaces\n",
    "    str1=str1.lower().replace(\" \",\"\")\n",
    "    str2=str2.lower().replace(\" \",\"\")\n",
    "    \n",
    "    # check if sorted strings are equal\n",
    "    return sorted(str1)==sorted(str2)\n",
    "\n",
    "def main():\n",
    "    # Input two strings from user\n",
    "    str1= input('Enter the first sring: ')\n",
    "    str2= input('Enter the second string: ')\n",
    "    # Check if the strings are anagrams and print the result\n",
    "    if are_anagrams(str1, str2):\n",
    "        print(f\"{str1} and {str2} are anagrams.\")\n",
    "    else:\n",
    "        print(f\"{str1} and {str2} are not anagrams.\")\n",
    "\n",
    "# print results\n",
    "main()\n",
    "main()"
   ]
  },
  {
   "cell_type": "markdown",
   "id": "65d063cd",
   "metadata": {},
   "source": [
    "\n",
    "**9. Reverse Words in a Sentence**\n",
    " \n",
    "• Write a program to reverse the order of words in a given sentence.\n",
    "- Expected output: \n",
    "   \n",
    "       If the input sentence is \"The quick brown fox jumps over the lazy dog.\", the output should be \"dog. lazy the over jumps fox brown quick The\"\n"
   ]
  },
  {
   "cell_type": "code",
   "execution_count": 33,
   "id": "3f33bed2",
   "metadata": {},
   "outputs": [
    {
     "data": {
      "text/plain": [
       "'dog. lazy the over jumps fox brown quick The'"
      ]
     },
     "execution_count": 33,
     "metadata": {},
     "output_type": "execute_result"
    }
   ],
   "source": [
    "# Program:\n",
    "\n",
    "# Function splits the sentence into words, reverses order, then joins them back into sentence with spaces b/w them\n",
    "def reverse_sentence(sentence):\n",
    "    return \" \".join(sentence.split()[::-1])\n",
    "        \n",
    "reverse_sentence(\"The quick brown fox jumps over the lazy dog.\")"
   ]
  },
  {
   "cell_type": "markdown",
   "id": "00793b20",
   "metadata": {},
   "source": [
    "**10. Temperature Converter**\n",
    "\n",
    "• Write a program that can convert temperatures between Celsius, Fahrenheit, and Kelvin.\n",
    "\n",
    "- Expected output: \n",
    "    \n",
    "      If the input is 20 degrees Celsius, the output should be \"20 degrees Celsius is equal to 68 degrees Fahrenheit and 293.15 degrees Kelvin.\""
   ]
  },
  {
   "cell_type": "markdown",
   "id": "9b4cd04e",
   "metadata": {},
   "source": [
    "`Note:` Here are the formulas to convert temperature from Celsius (C) to Fahrenheit (F) and Kelvin (K):\n",
    "\n",
    "Celsius to Fahrenheit (C to F):\n",
    "𝐹\n",
    "=\n",
    "9\n",
    "/\n",
    "5\n",
    "​\n",
    " C+32\n",
    "\n",
    "Celsius to Kelvin (C to K):\n",
    "𝐾\n",
    "=\n",
    "𝐶\n",
    "+\n",
    "273.15\n"
   ]
  },
  {
   "cell_type": "code",
   "execution_count": 11,
   "id": "fd460bdf",
   "metadata": {},
   "outputs": [
    {
     "name": "stdout",
     "output_type": "stream",
     "text": [
      " This is a Temperature Converter Program\n",
      "Enter Celsius degrees (C): 20\n",
      "20 degrees Celsius is equal to 68.0 degrees Fahrenheit and 293.15 degrees Kelvin.\n"
     ]
    }
   ],
   "source": [
    "# Program:\n",
    "\n",
    "# Define a function to convert Celsius to Fahrenheit\n",
    "def fahrenheit(degree_C):\n",
    "    degree_F=((9/5)*degree_C)+32\n",
    "    return degree_F\n",
    "\n",
    "# Define a function to convert Celsius to Kelvin\n",
    "def kelvin(degree_C):\n",
    "    degree_K= degree_C+273.15\n",
    "    return degree_K\n",
    "\n",
    "# Define the main function\n",
    "def main():\n",
    "    # Print a title for the program\n",
    "    print(' This is a Temperature Converter Program')\n",
    "    # Prompt the user to input the temperature in Celsius\n",
    "    degree_C=int(input('Enter Celsius degrees (C): '))\n",
    "    \n",
    "    # Call the fahrenheit & kelvin functions to convert Celsius to Fahrenheit & Kelvin respectively\n",
    "    degree_F=fahrenheit(degree_C) # Calculate Fahrenheit\n",
    "    degree_K=kelvin(degree_C) # Calculate Kelvin\n",
    "    # Print the converted temperatures\n",
    "    print(f\"{degree_C} degrees Celsius is equal to {degree_F} degrees Fahrenheit and {degree_K} degrees Kelvin.\")\n",
    "\n",
    "    # Call the main function to execute the program\n",
    "main()"
   ]
  }
 ],
 "metadata": {
  "kernelspec": {
   "display_name": "Python 3 (ipykernel)",
   "language": "python",
   "name": "python3"
  },
  "language_info": {
   "codemirror_mode": {
    "name": "ipython",
    "version": 3
   },
   "file_extension": ".py",
   "mimetype": "text/x-python",
   "name": "python",
   "nbconvert_exporter": "python",
   "pygments_lexer": "ipython3",
   "version": "3.11.3"
  }
 },
 "nbformat": 4,
 "nbformat_minor": 5
}
