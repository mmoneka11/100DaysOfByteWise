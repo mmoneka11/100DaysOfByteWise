{
  "cells": [
    {
      "cell_type": "markdown",
      "metadata": {
        "id": "NDlI-g0ztGyD"
      },
      "source": [
        "# **Understanding and Implementing Advanced Recurrent Neural Networks (RNNs)**\n",
        "\n",
        "\n",
        "\n",
        "\n"
      ]
    },
    {
      "cell_type": "markdown",
      "metadata": {
        "id": "UQRVfC-arAXH"
      },
      "source": [
        "## Part 1: Theoretical Foundations of Recurrent Neural Networks (RNNs)\n",
        "\n",
        "### 1. Understanding RNN\n",
        "- **Question:** What are Recurrent Neural Networks, and how do they differ from traditional feedforward neural networks?\n",
        "- **Task:** Explain the working of RNN, and how information is passed through the network over time.\n",
        "\n",
        "### 2. Stacking RNN Layers and Bi-directional Architecture\n",
        "- **Question:** Discuss the advantages and potential drawbacks of stacking RNN layers. What are Bi-directional RNNs, and how do they enhance the performance of sequence models?\n",
        "- **Task:** Explain when and why you would use stacked RNN layers and bi-directional RNNs in a sequence modeling task.\n",
        "\n",
        "### 3. Hybrid Architecture\n",
        "- **Question:** What is a hybrid architecture in the context of sequence modeling? Provide examples of how combining RNNs with other deep learning models can enhance performance.\n",
        "\n",
        "### 4. Types of RNN:\n",
        "- **Question:** List down types of RNN models and explain their structures and differences with RNN.\n"
      ]
    },
    {
      "cell_type": "markdown",
      "metadata": {
        "id": "R06gWa9qrG1R"
      },
      "source": [
        "## Part 2: Practical Implementation of Basic RNN and its Advanced Variants\n",
        "\n",
        "### 1. Implementing a Basic RNN Model\n",
        "- **Task:** Using a dataset of your choice (e.g., text, time-series data), implement a basic RNN model. Train the model to perform a sequence task such as text generation, sentiment analysis, or time-series prediction.\n",
        "- **Deliverable:** Perform this experimentation in a notebook and provide a detailed explanation or comments.\n",
        "\n",
        "### 2. Stacking RNN Layers and Bi-directional RNNs\n",
        "- **Task:** Modify your basic RNN model by stacking multiple RNN layers and also converting it into a bi-directional RNN. Analyze the performance improvement (if any) compared to the basic RNN model. (Note: Separate Implementation of Stacked RNN & Bi-Directional RNN)\n",
        "- **Deliverable:** Perform this experimentation in a notebook and provide a detailed explanation or comments.\n",
        "\n",
        "### 3. Exploring Hybrid Architectures\n",
        "- **Task:** Implement a hybrid architecture by combining your RNN model with another model (e.g., CNN, Attention mechanism). Train this hybrid model on the same dataset and compare its performance with the previous models.\n",
        "- **Deliverable:** Submit the Python code in a notebook for the hybrid model along with a report discussing the results, challenges faced, and the benefits (or drawbacks) observed.\n"
      ]
    },
    {
      "cell_type": "code",
      "execution_count": null,
      "metadata": {
        "id": "2Vu1iWl-2J2e"
      },
      "outputs": [],
      "source": [
        "https://medium.com/@basitjawaid123/setting-up-aws-infrastructure-with-terraform-a-step-by-step-guide-0e157af6e268\n",
        "\n",
        "https://www.google.com/search?q=free+deployment+depends+on+model+size&oq=free+deployment+depends+on+model+size&gs_lcrp=EgZjaHJvbWUyCwgAEEUYChg5GKABMgkIARAhGAoYoAHSAQg4NDg3ajBqNKgCALACAQ&client=ms-android-oppo-rvo3&sourceid=chrome-mobile&ie=UTF-8#ip=1\n",
        "\n",
        "https://towardsdatascience.com/how-to-deploy-large-size-deep-learning-models-into-production-66b851d17f33"
      ]
    },
    {
      "cell_type": "markdown",
      "metadata": {
        "id": "U0lGr5N-vM-U"
      },
      "source": [
        "# Part 2:"
      ]
    },
    {
      "cell_type": "markdown",
      "metadata": {
        "id": "89Q1JNf71hT2"
      },
      "source": [
        "## 1. Implementing a Basic RNN Model\n"
      ]
    },
    {
      "cell_type": "markdown",
      "metadata": {
        "id": "I1HizfTd1yNp"
      },
      "source": [
        "TensorFlow Datasets (TFDS): https://www.tensorflow.org/datasets/catalog/tiny_shakespeare\n",
        "\n"
      ]
    },
    {
      "cell_type": "markdown",
      "metadata": {
        "id": "Ig-6fRcuKDQ6"
      },
      "source": [
        "#### Install and Import Necessary Libraries\n"
      ]
    },
    {
      "cell_type": "code",
      "execution_count": null,
      "metadata": {
        "id": "YxTfnPivKIHg"
      },
      "outputs": [],
      "source": [
        "! pip install tensorflow datasets"
      ]
    },
    {
      "cell_type": "code",
      "execution_count": null,
      "metadata": {
        "id": "CSpYFexRJn4A"
      },
      "outputs": [],
      "source": [
        "# Importing Necessary Libraries\n",
        "import numpy as np\n",
        "import matplotlib.pyplot as plt\n",
        "import tensorflow as tf\n",
        "import tensorflow_datasets as tfds\n",
        "from tensorflow.keras.models import Sequential\n",
        "from tensorflow.keras.layers import Embedding, SimpleRNN, Dense\n",
        "from tensorflow.keras.optimizers import Adam\n",
        "from tensorflow.keras.preprocessing.text import Tokenizer\n",
        "from tensorflow.keras.preprocessing.sequence import pad_sequences"
      ]
    },
    {
      "cell_type": "markdown",
      "metadata": {
        "id": "S7PvNFVwK6Sq"
      },
      "source": [
        "#### Data Preparation\n"
      ]
    },
    {
      "cell_type": "markdown",
      "metadata": {
        "id": "xO4cZWh1TnNS"
      },
      "source": [
        "##### Load and Preprocess the Dataset\n"
      ]
    },
    {
      "cell_type": "code",
      "execution_count": null,
      "metadata": {
        "id": "T98MnCFsGqdd"
      },
      "outputs": [],
      "source": [
        "# tfds.list_builders()"
      ]
    },
    {
      "cell_type": "code",
      "execution_count": null,
      "metadata": {
        "colab": {
          "base_uri": "https://localhost:8080/"
        },
        "id": "WJn4e8K727Qw",
        "outputId": "18ca23cc-11e8-42d6-daba-bd6a9bb6c277"
      },
      "outputs": [
        {
          "data": {
            "text/plain": [
              "<_MapDataset element_spec=TensorSpec(shape=(), dtype=tf.string, name=None)>"
            ]
          },
          "execution_count": 45,
          "metadata": {},
          "output_type": "execute_result"
        }
      ],
      "source": [
        "# Loading the Tiny Shakespeare dataset\n",
        "ds = tfds.load('tiny_shakespeare', split='train', as_supervised=False)"
      ]
    },
    {
      "cell_type": "code",
      "execution_count": null,
      "metadata": {
        "colab": {
          "base_uri": "https://localhost:8080/"
        },
        "id": "_ZmDkeb08p02",
        "outputId": "16588dce-11b0-471d-96c8-6d181763ac20"
      },
      "outputs": [
        {
          "name": "stdout",
          "output_type": "stream",
          "text": [
            "Length of text: 1003854 characters\n",
            "First Citizen:\n",
            "Before we proceed any further, hear me speak.\n",
            "\n",
            "All:\n",
            "Speak, speak.\n",
            "\n",
            "First Citizen:\n",
            "You are all resolved rather to die than to famish?\n",
            "\n",
            "All:\n",
            "Resolved. resolved.\n",
            "\n",
            "First Citizen:\n",
            "First, you know Caius Marcius is chief enemy to the people.\n",
            "\n",
            "All:\n",
            "We know't, we know't.\n",
            "\n",
            "First Citizen:\n",
            "Let us kill him, and we'll have corn at our own price.\n",
            "Is't a verdict?\n",
            "\n",
            "All:\n",
            "No more talking on't; let it be done: away, away!\n",
            "\n",
            "Second Citizen:\n",
            "One word, good citizens.\n",
            "\n",
            "First Citizen:\n",
            "We are accounted poor\n",
            "Number of unique characters: 65\n",
            "Vocabulary: ['\\n', ' ', '!', '$', '&', \"'\", ',', '-', '.', '3', ':', ';', '?', 'A', 'B', 'C', 'D', 'E', 'F', 'G', 'H', 'I', 'J', 'K', 'L', 'M', 'N', 'O', 'P', 'Q', 'R', 'S', 'T', 'U', 'V', 'W', 'X', 'Y', 'Z', 'a', 'b', 'c', 'd', 'e', 'f', 'g', 'h', 'i', 'j', 'k', 'l', 'm', 'n', 'o', 'p', 'q', 'r', 's', 't', 'u', 'v', 'w', 'x', 'y', 'z']\n"
          ]
        }
      ],
      "source": [
        "                        # Analyse Data\n",
        "\n",
        "# Extracting only the text data from the dataset\n",
        "text_ds = ds.map(lambda x: x['text'])\n",
        "\n",
        "\n",
        "# Batching the dataset\n",
        "# ds = ds.batch(1)  # Batch size 1 for loading text\n",
        "\n",
        "# text_ds\n",
        "\n",
        "# Concatenating all text into a single string\n",
        "text = ''.join([t.decode('utf-8') for t in text_ds.as_numpy_iterator()])\n",
        "# Print the length of the text\n",
        "print(f'Length of text: {len(text)} characters')\n",
        "print('\\n')\n",
        "\n",
        "# Let's look at the first 500 characters in text\n",
        "print(text[:500])\n",
        "print('\\n')\n",
        "\n",
        "# Unique characters in the text\n",
        "vocab = sorted(set(text))    # Extracts and sorts the unique characters from the text\n",
        "print('Number of unique characters:', len(vocab))\n",
        "print('\\n')\n",
        "print('Vocabulary:', vocab)"
      ]
    },
    {
      "cell_type": "markdown",
      "metadata": {
        "id": "K9n_YPjgqgso"
      },
      "source": [
        "##### Vectorize the text\n",
        "\n",
        "  Convert the text from a sequence of characters to a sequence of numbers."
      ]
    },
    {
      "cell_type": "code",
      "execution_count": null,
      "metadata": {
        "id": "WD3NYfKU9-Yl"
      },
      "outputs": [],
      "source": [
        "# Initialize the tokenizer\n",
        "tokenizer = Tokenizer(char_level=True, lower=False)  # char_level=True treats each character as a token\n",
        "tokenizer.fit_on_texts([text])\n",
        "\n",
        "# Step 1: Map characters to their indices in vocabulary\n",
        "char2index = tokenizer.word_index\n",
        "\n",
        "# Mapping index to character using the tokenizer\n",
        "# index2char = {v: k for k, v in tokenizer.word_index.items()}\n",
        "\n",
        "print('{')\n",
        "for char, _ in zip(char2index, range(20)):\n",
        "    print('  {:4s}: {:3d},'.format(repr(char), char2index[char]))\n",
        "print('  ...\\n}')\n",
        "\n",
        "# Step 2: Map character indices to characters\n",
        "index2char = {index: char for char, index in char2index.items()}\n",
        "index2char_array = np.array([char for _, char in sorted(index2char.items())])\n",
        "\n",
        "# Print the mapping\n",
        "print('index2char array:', index2char_array)\n",
        "\n",
        "# Step 3: Convert chars in text to indices\n",
        "text_as_int = tokenizer.texts_to_sequences([text])[0]\n",
        "\n",
        "# Print the length of text_as_int and the first 15 character mappings\n",
        "print('text_as_int length: {}'.format(len(text_as_int)))\n",
        "print('{} --> {}'.format(repr(text[:15]), repr(text_as_int[:15])))"
      ]
    },
    {
      "cell_type": "code",
      "execution_count": null,
      "metadata": {
        "colab": {
          "base_uri": "https://localhost:8080/"
        },
        "id": "bluEPuYgqoGX",
        "outputId": "217e70f1-ad53-44d6-940a-265d56765c28"
      },
      "outputs": [],
      "source": [
        "# Creating a Tokenizer (convert text to sequences of integers)\n",
        "# tokenizer = Tokenizer(char_level=True)\n",
        "tokenizer = Tokenizer(char_level=True, lower=False)  # char_level=True treats each character as a token\n",
        "tokenizer.fit_on_texts([text])\n",
        "total_chars = len(tokenizer.word_index) + 1    # extracts # vocab size (+1 for padding token because token indices are 1-based)\n",
        "print('total_chars:', total_chars)\n",
        "print('\\n')\n",
        "\n",
        "# Converting text to sequences\n",
        "# sequences = tokenizer.texts_to_sequences([text])\n",
        "\n",
        "text_as_int = tokenizer.texts_to_sequences([text])[0]\n",
        "print('sequences:\\n', text_as_int)\n",
        "print('sequence length:\\n', len(text_as_int))\n",
        "print(f'{repr(text[:15])}  -->  {repr(text_as_int[:15])}')"
      ]
    },
    {
      "cell_type": "markdown",
      "metadata": {
        "id": "4QYJMZ_6NKT7"
      },
      "source": [
        "Method2:\n",
        "To convert the text from a sequence of characters to a sequence of numbers, we will detect all unique characters in the text, form a vocabulary out of it and replace each character with its index in the vocabulary."
      ]
    },
    {
      "cell_type": "code",
      "execution_count": null,
      "metadata": {
        "id": "Kuh_U6rSNIeh"
      },
      "outputs": [],
      "source": [
        "# # Map characters to their indices in vocabulary.\n",
        "# char2index = {char: index for index, char in enumerate(vocab)}\n",
        "\n",
        "# print('{')\n",
        "# for char, _ in zip(char2index, range(20)):\n",
        "#     print('  {:4s}: {:3d},'.format(repr(char), char2index[char]))\n",
        "# print('  ...\\n}')\n",
        "\n",
        "# # Map character indices to characters from vocabulary.\n",
        "# index2char = np.array(vocab)\n",
        "# print(index2char)\n",
        "\n",
        "# # Convert chars in text to indices.\n",
        "# text_as_int = np.array([char2index[char] for char in text])\n",
        "\n",
        "# print('text_as_int length: {}'.format(len(text_as_int)))\n",
        "# print('{} --> {}'.format(repr(text[:15]), repr(text_as_int[:15])))\n"
      ]
    },
    {
      "cell_type": "markdown",
      "metadata": {
        "id": "rwz_zFVvA1i_"
      },
      "source": [
        "##### Create training sequences"
      ]
    },
    {
      "cell_type": "code",
      "execution_count": null,
      "metadata": {
        "colab": {
          "base_uri": "https://localhost:8080/"
        },
        "id": "mHAYyHVoAyeB",
        "outputId": "e19d2009-a8f2-44c3-893b-75787c7580c0"
      },
      "outputs": [
        {
          "name": "stdout",
          "output_type": "stream",
          "text": [
            "input_sequences_per_epoch:\n",
            " 9939\n"
          ]
        }
      ],
      "source": [
        "# Creating input sequences\n",
        "max_sequence_len = 100    # The maximum length sentence we want for a single input in characters.\n",
        "input_sequences = len(text) // (max_sequence_len + 1)\n",
        "print('input_sequences_per_epoch:\\n', input_sequences)"
      ]
    },
    {
      "cell_type": "code",
      "execution_count": null,
      "metadata": {
        "colab": {
          "base_uri": "https://localhost:8080/"
        },
        "id": "Vn2Qvk8OEUz3",
        "outputId": "acfd4fad-8c7a-47ba-8cb9-9529531a86c1"
      },
      "outputs": [
        {
          "name": "stdout",
          "output_type": "stream",
          "text": [
            "F\n",
            "i\n",
            "r\n",
            "s\n",
            "t\n"
          ]
        }
      ],
      "source": [
        "# Creating a dataset from the sequences\n",
        "char_dataset = tf.data.Dataset.from_tensor_slices(text_as_int)\n",
        "\n",
        "for char in char_dataset.take(5):   # Displays the first 5 characters in the dataset\n",
        "    print(index2char[char.numpy()])"
      ]
    },
    {
      "cell_type": "code",
      "execution_count": null,
      "metadata": {
        "colab": {
          "base_uri": "https://localhost:8080/"
        },
        "id": "y2AD3oYbO40Q",
        "outputId": "daeecf92-2ea8-49c6-b6b8-c954053216df"
      },
      "outputs": [
        {
          "name": "stdout",
          "output_type": "stream",
          "text": [
            "Sequences count: 9939\n",
            "\n",
            "'First Citizen:\\nBefore we proceed any further, hear me speak.\\n\\nAll:\\nSpeak, speak.\\n\\nFirst Citizen:\\nYou '\n",
            "'are all resolved rather to die than to famish?\\n\\nAll:\\nResolved. resolved.\\n\\nFirst Citizen:\\nFirst, you k'\n",
            "\"now Caius Marcius is chief enemy to the people.\\n\\nAll:\\nWe know't, we know't.\\n\\nFirst Citizen:\\nLet us ki\"\n",
            "\"ll him, and we'll have corn at our own price.\\nIs't a verdict?\\n\\nAll:\\nNo more talking on't; let it be d\"\n",
            "'one: away, away!\\n\\nSecond Citizen:\\nOne word, good citizens.\\n\\nFirst Citizen:\\nWe are accounted poor citi'\n"
          ]
        }
      ],
      "source": [
        "# Generating batched sequences out of the char_dataset\n",
        "sequences_ds = char_dataset.batch(max_sequence_len + 1, drop_remainder=True)  # batches\n",
        "\n",
        "# Sequences size\n",
        "sequences_count = len(list(sequences_ds.as_numpy_iterator()))\n",
        "print(f'Sequences count: {sequences_count}')\n",
        "print()\n",
        "\n",
        "# Displaying the first 5 sequences as examples\n",
        "for item in sequences_ds.take(5):\n",
        "    sequence_text = ''.join([index2char[char] for char in item.numpy()])\n",
        "    print(repr(sequence_text))"
      ]
    },
    {
      "cell_type": "code",
      "execution_count": null,
      "metadata": {
        "id": "ej09mTsFBXkC"
      },
      "outputs": [],
      "source": [
        "\n",
        "# Sequences shape:\n",
        "# - Total number of sequences generated: 11043\n",
        "# - Each sequence length: sequence_length+1 = 101 characters"
      ]
    },
    {
      "cell_type": "code",
      "execution_count": null,
      "metadata": {
        "colab": {
          "base_uri": "https://localhost:8080/"
        },
        "id": "-oZeSpP8aQdT",
        "outputId": "c8f1319c-b569-4cf0-eb17-47aff247d62d"
      },
      "outputs": [
        {
          "name": "stdout",
          "output_type": "stream",
          "text": [
            "Dataset size: 9939\n",
            "Input sequence size: 100\n",
            "Target sequence size: 100\n",
            "\n",
            "Input: 'First Citizen:\\nBefore we proceed any further, hear me speak.\\n\\nAll:\\nSpeak, speak.\\n\\nFirst Citizen:\\nYou'\n",
            "Target: 'irst Citizen:\\nBefore we proceed any further, hear me speak.\\n\\nAll:\\nSpeak, speak.\\n\\nFirst Citizen:\\nYou '\n"
          ]
        }
      ],
      "source": [
        "# Splitting sequences into input and target\n",
        "def split_input_target(sequence_chunk):\n",
        "    input_sequence = sequence_chunk[:-1]\n",
        "    target_sequence = sequence_chunk[1:]\n",
        "    return input_sequence, target_sequence\n",
        "\n",
        "# Applying the split function to the dataset\n",
        "split_dataset = sequences_ds.map(split_input_target)\n",
        "\n",
        "# Dataset size is the same as input_sequence_per_epoch.\n",
        "# Sequence's elemen  length is `max_sequence_length` not `max_sequence_length + 1`.\n",
        "dataset_size = len(list(split_dataset.as_numpy_iterator()))\n",
        "print('Dataset size: {}'.format(dataset_size))\n",
        "\n",
        "# Displaying an first of input and target sequences\n",
        "for input_seq, target_seq in split_dataset.take(1):\n",
        "    print('Input sequence size:', repr(len(input_seq.numpy())))\n",
        "    print('Target sequence size:', repr(len(target_seq.numpy())))\n",
        "    print()\n",
        "    print('Input:', repr(''.join([index2char[i] for i in input_seq.numpy()])))\n",
        "    print('Target:', repr(''.join([index2char[i] for i in target_seq.numpy()])))"
      ]
    },
    {
      "cell_type": "markdown",
      "metadata": {
        "id": "jphacU6uf-_I"
      },
      "source": [
        "##### Splitting Training Sequences into Batches\n",
        "\n"
      ]
    },
    {
      "cell_type": "code",
      "execution_count": null,
      "metadata": {
        "colab": {
          "base_uri": "https://localhost:8080/"
        },
        "id": "Td4nsW1zd6IZ",
        "outputId": "686f7b7c-8ddf-450d-a6b1-4d0c3c06d7d7"
      },
      "outputs": [
        {
          "name": "stdout",
          "output_type": "stream",
          "text": [
            "Batched dataset size: 155\n",
            "1st batch: input_text: tf.Tensor(\n",
            "[[ 5 29  2 ... 13  1 16]\n",
            " [ 4 18  9 ...  6  1  7]\n",
            " [17 11 37 ... 11 43 16]\n",
            " ...\n",
            " [30  4  1 ...  3  4  1]\n",
            " [ 5  9 21 ...  1  3  4]\n",
            " [36 30 31 ...  2  2 13]], shape=(64, 100), dtype=int32)\n",
            "\n",
            "1st batch: target_text: tf.Tensor(\n",
            "[[29  2  1 ...  1 16  4]\n",
            " [18  9  1 ...  1  7  6]\n",
            " [11 37  2 ... 43 16  1]\n",
            " ...\n",
            " [ 4  1 20 ...  4  1 10]\n",
            " [ 9 21  2 ...  3  4  1]\n",
            " [30 31 35 ...  2 13  2]], shape=(64, 100), dtype=int32)\n"
          ]
        }
      ],
      "source": [
        "# Batch size\n",
        "BATCH_SIZE = 64\n",
        "\n",
        "# Buffer size to shuffle the dataset\n",
        "BUFFER_SIZE = 10000\n",
        "\n",
        "# Shuffle and batch the dataset\n",
        "dataset = split_dataset.shuffle(BUFFER_SIZE).batch(BATCH_SIZE, drop_remainder=True)\n",
        "\n",
        "# Size of the batched dataset\n",
        "print('Batched dataset size:', len(list(dataset.as_numpy_iterator())))\n",
        "\n",
        "# Displaying the first batch of input and target sequences\n",
        "for input_text, target_text in dataset.take(1):\n",
        "    print('1st batch: input_text:', input_text)\n",
        "    print()\n",
        "    print('1st batch: target_text:', target_text)"
      ]
    },
    {
      "cell_type": "code",
      "execution_count": null,
      "metadata": {
        "colab": {
          "base_uri": "https://localhost:8080/"
        },
        "id": "nt6uedIweeJJ",
        "outputId": "39e509e7-a7f8-4d9a-f8e6-0f41be38a51f"
      },
      "outputs": [
        {
          "name": "stdout",
          "output_type": "stream",
          "text": [
            "Dataset shape:\n",
            "- Number of batches: 155\n",
            "- Sequences per batch: 64\n",
            "- Each sequence is a tuple of 2 sub-sequences of length 100 (input_text and target_text)\n"
          ]
        }
      ],
      "source": [
        "# Dataset shape Summary\n",
        "\n",
        "# Number of batches\n",
        "num_batches = len(list(dataset.as_numpy_iterator()))\n",
        "\n",
        "# Each batch contains 64 sequences\n",
        "sequences_per_batch = BATCH_SIZE\n",
        "\n",
        "# Each sequence is a tuple of 2 sub-sequences of length 100\n",
        "sequence_length = max_sequence_l\n",
        "\n",
        "print(f\"Dataset shape:\")\n",
        "print(f\"- Number of batches: {num_batches}\")\n",
        "print(f\"- Sequences per batch: {sequences_per_batch}\")\n",
        "print(f\"- Each sequence is a tuple of 2 sub-sequences of length {sequence_length} (input_text and target_text)\")"
      ]
    },
    {
      "cell_type": "markdown",
      "metadata": {
        "id": "9lQIsG9wKVP_"
      },
      "source": [
        "#### RNN Model Building\n",
        "\n",
        "  Using the Functional API"
      ]
    },
    {
      "cell_type": "code",
      "execution_count": null,
      "metadata": {
        "id": "OhGGLUUiKRs7"
      },
      "outputs": [],
      "source": [
        "\n",
        "# 1. Model Configuration\n",
        "\n",
        "# Batch size\n",
        "# BATCH_SIZE=64\n",
        "# Vocabulary size in characters\n",
        "# vocab_size = len(vocab)\n",
        "vocab_size = total_chars\n",
        "\n",
        "# Model parameters\n",
        "embedding_dim = 256\n",
        "rnn_units = 1024\n",
        "\n",
        "\n",
        "# 2. Model Definition\n",
        "\n",
        "# Function to build the RNN model\n",
        "# def build_model(vocab_size, embedding_dim, rnn_units, batch_size):\n",
        "#     model = tf.keras.Sequential([\n",
        "#         tf.keras.layers.Embedding(input_dim=vocab_size, output_dim=embedding_dim, batch_input_shape=[batch_size, None]),\n",
        "#         tf.keras.layers.SimpleRNN(rnn_units, return_sequences=True, stateful=True, recurrent_initializer='glorot_normal'),\n",
        "#         tf.keras.layers.Dense(vocab_size)\n",
        "#     ])\n",
        "#     return model"
      ]
    },
    {
      "cell_type": "code",
      "execution_count": null,
      "metadata": {
        "id": "Q-e8lHuI4cDs"
      },
      "outputs": [],
      "source": [
        "import tensorflow as tf\n",
        "\n",
        "def build_model(vocab_size, embedding_dim, rnn_units, batch_size):\n",
        "    inputs = tf.keras.Input(shape=(None,), batch_size=batch_size, name='input_layer')\n",
        "    x = tf.keras.layers.Embedding(input_dim=vocab_size, output_dim=embedding_dim)(inputs)\n",
        "    x = tf.keras.layers.SimpleRNN(units=rnn_units, return_sequences=True, stateful=True, recurrent_initializer='glorot_normal')(x)\n",
        "    outputs = tf.keras.layers.Dense(vocab_size, name='output_layer')(x)\n",
        "\n",
        "    model = tf.keras.Model(inputs=inputs, outputs=outputs)\n",
        "    return model\n",
        "\n",
        "# Define model parameters\n",
        "# vocab_size = 65  # Example vocab size\n",
        "# embedding_dim = 256\n",
        "# rnn_units = 1024\n",
        "# batch_size = 64\n",
        "\n"
      ]
    },
    {
      "cell_type": "code",
      "execution_count": null,
      "metadata": {
        "colab": {
          "base_uri": "https://localhost:8080/",
          "height": 261
        },
        "id": "DUb4aqS6sEYI",
        "outputId": "dad6f0f7-4c07-4090-d29e-d4f43a7e528a"
      },
      "outputs": [
        {
          "data": {
            "text/html": [
              "<pre style=\"white-space:pre;overflow-x:auto;line-height:normal;font-family:Menlo,'DejaVu Sans Mono',consolas,'Courier New',monospace\"><span style=\"font-weight: bold\">Model: \"functional_12\"</span>\n",
              "</pre>\n"
            ],
            "text/plain": [
              "\u001b[1mModel: \"functional_12\"\u001b[0m\n"
            ]
          },
          "metadata": {},
          "output_type": "display_data"
        },
        {
          "data": {
            "text/html": [
              "<pre style=\"white-space:pre;overflow-x:auto;line-height:normal;font-family:Menlo,'DejaVu Sans Mono',consolas,'Courier New',monospace\">┏━━━━━━━━━━━━━━━━━━━━━━━━━━━━━━━━━━━━━━┳━━━━━━━━━━━━━━━━━━━━━━━━━━━━━┳━━━━━━━━━━━━━━━━━┓\n",
              "┃<span style=\"font-weight: bold\"> Layer (type)                         </span>┃<span style=\"font-weight: bold\"> Output Shape                </span>┃<span style=\"font-weight: bold\">         Param # </span>┃\n",
              "┡━━━━━━━━━━━━━━━━━━━━━━━━━━━━━━━━━━━━━━╇━━━━━━━━━━━━━━━━━━━━━━━━━━━━━╇━━━━━━━━━━━━━━━━━┩\n",
              "│ input_layer (<span style=\"color: #0087ff; text-decoration-color: #0087ff\">InputLayer</span>)             │ (<span style=\"color: #00af00; text-decoration-color: #00af00\">64</span>, <span style=\"color: #00d7ff; text-decoration-color: #00d7ff\">None</span>)                  │               <span style=\"color: #00af00; text-decoration-color: #00af00\">0</span> │\n",
              "├──────────────────────────────────────┼─────────────────────────────┼─────────────────┤\n",
              "│ embedding_27 (<span style=\"color: #0087ff; text-decoration-color: #0087ff\">Embedding</span>)             │ (<span style=\"color: #00af00; text-decoration-color: #00af00\">64</span>, <span style=\"color: #00d7ff; text-decoration-color: #00d7ff\">None</span>, <span style=\"color: #00af00; text-decoration-color: #00af00\">256</span>)             │          <span style=\"color: #00af00; text-decoration-color: #00af00\">16,896</span> │\n",
              "├──────────────────────────────────────┼─────────────────────────────┼─────────────────┤\n",
              "│ simple_rnn_18 (<span style=\"color: #0087ff; text-decoration-color: #0087ff\">SimpleRNN</span>)            │ (<span style=\"color: #00af00; text-decoration-color: #00af00\">64</span>, <span style=\"color: #00d7ff; text-decoration-color: #00d7ff\">None</span>, <span style=\"color: #00af00; text-decoration-color: #00af00\">1024</span>)            │       <span style=\"color: #00af00; text-decoration-color: #00af00\">1,311,744</span> │\n",
              "├──────────────────────────────────────┼─────────────────────────────┼─────────────────┤\n",
              "│ output_layer (<span style=\"color: #0087ff; text-decoration-color: #0087ff\">Dense</span>)                 │ (<span style=\"color: #00af00; text-decoration-color: #00af00\">64</span>, <span style=\"color: #00d7ff; text-decoration-color: #00d7ff\">None</span>, <span style=\"color: #00af00; text-decoration-color: #00af00\">66</span>)              │          <span style=\"color: #00af00; text-decoration-color: #00af00\">67,650</span> │\n",
              "└──────────────────────────────────────┴─────────────────────────────┴─────────────────┘\n",
              "</pre>\n"
            ],
            "text/plain": [
              "┏━━━━━━━━━━━━━━━━━━━━━━━━━━━━━━━━━━━━━━┳━━━━━━━━━━━━━━━━━━━━━━━━━━━━━┳━━━━━━━━━━━━━━━━━┓\n",
              "┃\u001b[1m \u001b[0m\u001b[1mLayer (type)                        \u001b[0m\u001b[1m \u001b[0m┃\u001b[1m \u001b[0m\u001b[1mOutput Shape               \u001b[0m\u001b[1m \u001b[0m┃\u001b[1m \u001b[0m\u001b[1m        Param #\u001b[0m\u001b[1m \u001b[0m┃\n",
              "┡━━━━━━━━━━━━━━━━━━━━━━━━━━━━━━━━━━━━━━╇━━━━━━━━━━━━━━━━━━━━━━━━━━━━━╇━━━━━━━━━━━━━━━━━┩\n",
              "│ input_layer (\u001b[38;5;33mInputLayer\u001b[0m)             │ (\u001b[38;5;34m64\u001b[0m, \u001b[38;5;45mNone\u001b[0m)                  │               \u001b[38;5;34m0\u001b[0m │\n",
              "├──────────────────────────────────────┼─────────────────────────────┼─────────────────┤\n",
              "│ embedding_27 (\u001b[38;5;33mEmbedding\u001b[0m)             │ (\u001b[38;5;34m64\u001b[0m, \u001b[38;5;45mNone\u001b[0m, \u001b[38;5;34m256\u001b[0m)             │          \u001b[38;5;34m16,896\u001b[0m │\n",
              "├──────────────────────────────────────┼─────────────────────────────┼─────────────────┤\n",
              "│ simple_rnn_18 (\u001b[38;5;33mSimpleRNN\u001b[0m)            │ (\u001b[38;5;34m64\u001b[0m, \u001b[38;5;45mNone\u001b[0m, \u001b[38;5;34m1024\u001b[0m)            │       \u001b[38;5;34m1,311,744\u001b[0m │\n",
              "├──────────────────────────────────────┼─────────────────────────────┼─────────────────┤\n",
              "│ output_layer (\u001b[38;5;33mDense\u001b[0m)                 │ (\u001b[38;5;34m64\u001b[0m, \u001b[38;5;45mNone\u001b[0m, \u001b[38;5;34m66\u001b[0m)              │          \u001b[38;5;34m67,650\u001b[0m │\n",
              "└──────────────────────────────────────┴─────────────────────────────┴─────────────────┘\n"
            ]
          },
          "metadata": {},
          "output_type": "display_data"
        },
        {
          "data": {
            "text/html": [
              "<pre style=\"white-space:pre;overflow-x:auto;line-height:normal;font-family:Menlo,'DejaVu Sans Mono',consolas,'Courier New',monospace\"><span style=\"font-weight: bold\"> Total params: </span><span style=\"color: #00af00; text-decoration-color: #00af00\">1,396,290</span> (5.33 MB)\n",
              "</pre>\n"
            ],
            "text/plain": [
              "\u001b[1m Total params: \u001b[0m\u001b[38;5;34m1,396,290\u001b[0m (5.33 MB)\n"
            ]
          },
          "metadata": {},
          "output_type": "display_data"
        },
        {
          "data": {
            "text/html": [
              "<pre style=\"white-space:pre;overflow-x:auto;line-height:normal;font-family:Menlo,'DejaVu Sans Mono',consolas,'Courier New',monospace\"><span style=\"font-weight: bold\"> Trainable params: </span><span style=\"color: #00af00; text-decoration-color: #00af00\">1,396,290</span> (5.33 MB)\n",
              "</pre>\n"
            ],
            "text/plain": [
              "\u001b[1m Trainable params: \u001b[0m\u001b[38;5;34m1,396,290\u001b[0m (5.33 MB)\n"
            ]
          },
          "metadata": {},
          "output_type": "display_data"
        },
        {
          "data": {
            "text/html": [
              "<pre style=\"white-space:pre;overflow-x:auto;line-height:normal;font-family:Menlo,'DejaVu Sans Mono',consolas,'Courier New',monospace\"><span style=\"font-weight: bold\"> Non-trainable params: </span><span style=\"color: #00af00; text-decoration-color: #00af00\">0</span> (0.00 B)\n",
              "</pre>\n"
            ],
            "text/plain": [
              "\u001b[1m Non-trainable params: \u001b[0m\u001b[38;5;34m0\u001b[0m (0.00 B)\n"
            ]
          },
          "metadata": {},
          "output_type": "display_data"
        }
      ],
      "source": [
        "# Instantiate and summarize the model\n",
        "model = build_model(vocab_size, embedding_dim, rnn_units, BATCH_SIZE)\n",
        "# model.build(tf.TensorShape([1, None]))\n",
        "\n",
        "# Model summary\n",
        "model.summary()   # (batch_size, sequence_length, vocab_size)"
      ]
    },
    {
      "cell_type": "code",
      "execution_count": null,
      "metadata": {
        "id": "tAUUKc2SSxm7"
      },
      "outputs": [],
      "source": [
        "# Compiling the model\n",
        "\n",
        "adam_optimizer = tf.keras.optimizers.Adam(learning_rate=0.001)\n",
        "loss = tf.losses.SparseCategoricalCrossentropy(from_logits=True)\n",
        "\n",
        "model.compile(loss=loss, optimizer=adam_optimizer, metrics=['accuracy'])"
      ]
    },
    {
      "cell_type": "code",
      "execution_count": null,
      "metadata": {
        "colab": {
          "base_uri": "https://localhost:8080/",
          "height": 820
        },
        "id": "04Gz8zVoCmkS",
        "outputId": "e46845c2-84f3-4f6a-ad25-5f847c778b5d"
      },
      "outputs": [
        {
          "data": {
            "image/png": "[encoded data removed]",
            "text/plain": [
              "<IPython.core.display.Image object>"
            ]
          },
          "execution_count": 141,
          "metadata": {},
          "output_type": "execute_result"
        }
      ],
      "source": [
        "tf.keras.utils.plot_model(\n",
        "    model,\n",
        "    show_shapes=True,\n",
        "    show_layer_names=True,\n",
        ")"
      ]
    },
    {
      "cell_type": "markdown",
      "metadata": {
        "id": "Lp1Z3YI0Kc1g"
      },
      "source": [
        "#### Train the model\n"
      ]
    },
    {
      "cell_type": "code",
      "execution_count": null,
      "metadata": {},
      "outputs": [],
      "source": [
        "# Training the model\n",
        "history = model.fit(\n",
        "  x=dataset,\n",
        "  epochs=5,\n",
        "  verbose=1\n",
        "\n",
        ")"
      ]
    },
    {
      "cell_type": "markdown",
      "metadata": {
        "id": "EJdAAYxMKm_9"
      },
      "source": [
        "#### Text Generation\n",
        "\n",
        "After training, we can generate new text based on a seed string."
      ]
    },
    {
      "cell_type": "code",
      "execution_count": null,
      "metadata": {
        "colab": {
          "base_uri": "https://localhost:8080/",
          "height": 889
        },
        "id": "GnlTWnqwfvH0",
        "outputId": "2963005f-eee5-47e1-f932-b8c3e1fd44a6"
      },
      "outputs": [
        {
          "name": "stdout",
          "output_type": "stream",
          "text": [
            "Epoch 1/10\n",
            "\u001b[1m245/245\u001b[0m \u001b[32m━━━━━━━━━━━━━━━━━━━━\u001b[0m\u001b[37m\u001b[0m \u001b[1m19s\u001b[0m 57ms/step - accuracy: 0.2470 - loss: 2.7286\n",
            "Epoch 2/10\n",
            "\u001b[1m245/245\u001b[0m \u001b[32m━━━━━━━━━━━━━━━━━━━━\u001b[0m\u001b[37m\u001b[0m \u001b[1m20s\u001b[0m 57ms/step - accuracy: 0.3920 - loss: 2.0738\n",
            "Epoch 3/10\n",
            "\u001b[1m245/245\u001b[0m \u001b[32m━━━━━━━━━━━━━━━━━━━━\u001b[0m\u001b[37m\u001b[0m \u001b[1m21s\u001b[0m 56ms/step - accuracy: 0.4296 - loss: 1.9250\n",
            "Epoch 4/10\n",
            "\u001b[1m245/245\u001b[0m \u001b[32m━━━━━━━━━━━━━━━━━━━━\u001b[0m\u001b[37m\u001b[0m \u001b[1m19s\u001b[0m 55ms/step - accuracy: 0.4515 - loss: 1.8396\n",
            "Epoch 5/10\n",
            "\u001b[1m245/245\u001b[0m \u001b[32m━━━━━━━━━━━━━━━━━━━━\u001b[0m\u001b[37m\u001b[0m \u001b[1m15s\u001b[0m 55ms/step - accuracy: 0.4693 - loss: 1.7779\n",
            "Epoch 6/10\n",
            "\u001b[1m245/245\u001b[0m \u001b[32m━━━━━━━━━━━━━━━━━━━━\u001b[0m\u001b[37m\u001b[0m \u001b[1m20s\u001b[0m 55ms/step - accuracy: 0.4794 - loss: 1.7407\n",
            "Epoch 7/10\n",
            "\u001b[1m245/245\u001b[0m \u001b[32m━━━━━━━━━━━━━━━━━━━━\u001b[0m\u001b[37m\u001b[0m \u001b[1m15s\u001b[0m 55ms/step - accuracy: 0.4882 - loss: 1.7078\n",
            "Epoch 8/10\n",
            "\u001b[1m245/245\u001b[0m \u001b[32m━━━━━━━━━━━━━━━━━━━━\u001b[0m\u001b[37m\u001b[0m \u001b[1m21s\u001b[0m 56ms/step - accuracy: 0.4951 - loss: 1.6836\n",
            "Epoch 9/10\n",
            "\u001b[1m245/245\u001b[0m \u001b[32m━━━━━━━━━━━━━━━━━━━━\u001b[0m\u001b[37m\u001b[0m \u001b[1m15s\u001b[0m 56ms/step - accuracy: 0.4999 - loss: 1.6641\n",
            "Epoch 10/10\n",
            "\u001b[1m245/245\u001b[0m \u001b[32m━━━━━━━━━━━━━━━━━━━━\u001b[0m\u001b[37m\u001b[0m \u001b[1m21s\u001b[0m 56ms/step - accuracy: 0.5037 - loss: 1.6477\n"
          ]
        },
        {
          "data": {
            "image/png": "[encoded data removed]",
            "text/plain": [
              "<Figure size 640x480 with 1 Axes>"
            ]
          },
          "metadata": {},
          "output_type": "display_data"
        },
        {
          "name": "stdout",
          "output_type": "stream",
          "text": [
            "Dataset shape:\n",
            "- Number of batches: 245\n",
            "- Sequences per batch: 64\n",
            "- Each sequence is a tuple of 2 sub-sequences of length 100 (input_text and target_text)\n"
          ]
        }
      ],
      "source": [
        "\n",
        "\n",
        "# Parameters\n",
        "BATCH_SIZE = 64\n",
        "BUFFER_SIZE = 10000\n",
        "embedding_dim = 128\n",
        "max_sequence_length = 100  # Example sequence length\n",
        "\n",
        "# Load and preprocess the Tiny Shakespeare dataset\n",
        "ds = tfds.load('tiny_shakespeare', split='train')\n",
        "ds = ds.map(lambda x: (tf.strings.unicode_split(x['text'], input_encoding='UTF-8'), x['text']))\n",
        "ds = ds.map(lambda x, y: (tf.strings.reduce_join(x), y))  # Join characters back to text\n",
        "\n",
        "# ds = ds.batch(1)  # Batch size 1 for loading text\n",
        "\n",
        "# Extract the text\n",
        "text = \"\"\n",
        "for text_batch, _ in ds:\n",
        "    text = text_batch.numpy()[0].decode('utf-8')\n",
        "    break  # Only take the first batch for now\n",
        "\n",
        "# Initialize the tokenizer\n",
        "tokenizer = tf.keras.preprocessing.text.Tokenizer(char_level=True)\n",
        "tokenizer.fit_on_texts([text])\n",
        "\n",
        "# Convert text to sequences\n",
        "text_as_int = tokenizer.texts_to_sequences([text])[0]\n",
        "\n",
        "# Create dataset\n",
        "def create_dataset(text_as_int, batch_size, seq_length):\n",
        "    sequences = tf.data.Dataset.from_tensor_slices(text_as_int)\n",
        "    sequences = sequences.batch(batch_size, drop_remainder=True)\n",
        "    dataset = sequences.map(lambda x: (x[:-1], x[1:]))  # Use shifted sequences for training\n",
        "    dataset = dataset.shuffle(BUFFER_SIZE).batch(batch_size, drop_remainder=True)\n",
        "    return dataset\n",
        "\n",
        "dataset = create_dataset(text_as_int, BATCH_SIZE, max_sequence_length)\n",
        "\n",
        "# Model definition\n",
        "model = tf.keras.Sequential([\n",
        "    tf.keras.layers.Embedding(input_dim=len(tokenizer.word_index) + 1, output_dim=embedding_dim),\n",
        "    tf.keras.layers.SimpleRNN(128, return_sequences=True),\n",
        "    tf.keras.layers.Dense(len(tokenizer.word_index) + 1)\n",
        "])\n",
        "\n",
        "# Compile the model\n",
        "model.compile(optimizer='adam', loss=tf.keras.losses.SparseCategoricalCrossentropy(from_logits=True), metrics=['accuracy'])\n",
        "\n",
        "# Train the model\n",
        "history = model.fit(dataset, epochs=10, verbose=1)\n",
        "\n",
        "# Visualize training history\n",
        "def render_training_history(training_history):\n",
        "    loss = training_history.history['loss']\n",
        "    plt.title('Loss')\n",
        "    plt.xlabel('Epoch')\n",
        "    plt.ylabel('Loss')\n",
        "    plt.plot(loss, label='Training set')\n",
        "    plt.legend()\n",
        "    plt.grid(linestyle='--', linewidth=1, alpha=0.5)\n",
        "    plt.show()\n",
        "\n",
        "render_training_history(history)\n",
        "\n",
        "# Dataset shape summary\n",
        "num_batches = len(list(dataset.as_numpy_iterator()))\n",
        "sequences_per_batch = BATCH_SIZE\n",
        "sequence_length = max_sequence_length\n",
        "\n",
        "print(f\"Dataset shape:\")\n",
        "print(f\"- Number of batches: {num_batches}\")\n",
        "print(f\"- Sequences per batch: {sequences_per_batch}\")\n",
        "print(f\"- Each sequence is a tuple of 2 sub-sequences of length {sequence_length} (input_text and target_text)\")\n",
        "\n"
      ]
    },
    {
      "cell_type": "code",
      "execution_count": null,
      "metadata": {
        "colab": {
          "background_save": true,
          "base_uri": "https://localhost:8080/"
        },
        "id": "oHW7QTq8plzC",
        "outputId": "74c68c1b-6d19-407c-fc4d-69aa4fa00c60"
      },
      "outputs": [
        {
          "name": "stdout",
          "output_type": "stream",
          "text": [
            "Generated Text with default temperature (1.0):\n",
            "ROMEO: isel anathe:\n",
            "s,\n",
            "rselendr fespplan.\n",
            "me, itep he sane hed:\n",
            "or ckar rsale, y sinanepet swath d inaldo an fonthe the eweralan thedrre llere.\n",
            "y:\n",
            "pr ifrit onobit d w'laf mad tumo chay osongerowone tli wapialtho wous eres be marshalad wife\n",
            "jugegabre fll, he igr shar:\n",
            "y ded pporouro?\n",
            "s\n",
            "s shexith, hithel, avorinonen wh mo te we s k? d d antontith, the ar leth thaghouncadr. st fomo---\n",
            "k.\n",
            "rar thale:\n",
            "t moucrus.\n",
            "mad cacine'dad;\n",
            "tharagema cuthe&d.\n",
            "on:\n",
            "mexes mor ivepr so d. lisimang brithake no, l, ers ldon thiithe othe m s fo n.\n",
            "bousoncan icrd th metr mar ho his maled th:\n",
            "fulince maned mor veny t the mith, pealan hasthyor wheleererindowitheth: f t igore wend?\n",
            "kendgar otet.\n",
            "w sth, wourss nd ourotind'do; y:\n",
            "wanifolad bre nelith seliro, s:\n",
            "t bl. ixomou f s hars t hid, teresizat where t ourotaly abran om hofowa ghe thido.\n",
            "nqushadwarorin fo mourisichithad cust thestironcheditherenld watrrrollvery chit sefamon! g't s, eend, fune etat izers thelame pate hithy:\n",
            "vence y; nke, cucore cicor th, mer,\n",
            "chos, y ss\n",
            "\n",
            "Generated Text with higher temperature (1.5):\n",
            "ROMEO: trunoduckis\n",
            "\n",
            "\n",
            "nan't. r f joug,--ked mo tenanad'de hicowhetiverombus.\n",
            "vo, t d;\n",
            "y;\n",
            "rnghi, me, dun s jo r-thas nesur in h!\n",
            "hokicer; r y f naugay, f\n",
            "thom; ppjonad h lisodry-heraye fok f?\n",
            "tudso:\n",
            "d, psemo?\n",
            "bl pry rs: and. n\n",
            "s kequprado!\n",
            "s? t shi blki: agry mi3 fouray by p-busitud t alit y! tensty. brex.\n",
            "surjou h n klsoo, mourequla fonge by h\n",
            "t\n",
            "ig he t n l knay,\n",
            "ivono t thes, s; pa, in. voucoufuginor r.\n",
            "my tare.\n",
            "toncere ole, mbjell ir\n",
            "clenan. ccache, rspl!\n",
            "inevjuhe:\n",
            "th igr isty we'duth ldremje, s.\n",
            "pttechefemod added,\n",
            "ay wsisaki: ustugh.\n",
            "\n",
            "e' wal mo y thy; aind;\n",
            "th, fr, habarorl uryorif? inonozenk avepri:\n",
            "jok.\n",
            "towory. rit: ivet,-\n",
            "jefuturit usmbd cinlithancin alenomaingna-g, un: 'tou kinju mesexelaicha mibry'sh to s! alaivifaray:\n",
            "s, migel,\n",
            "sim gisoun.\n",
            "t withul leam.\n",
            "fonhar,-plles. g---jumpalite uniz& theitiven ameo n swho.\n",
            "f.\n",
            "fit tch.\n",
            "ativas.\n",
            "he inecum. t; is'th, opa-lerendi bo: o\n",
            "llarene\n",
            "tinqust le\n",
            "sth edioso s; anowas brallanuthast knllustiiitwa, me\n",
            "ceresin: ado,\n",
            "tcices an.\n",
            "staith temy'stoube\n"
          ]
        }
      ],
      "source": [
        "# Generate text function\n",
        "def generate_text(model, tokenizer, start_string, num_generate=1000, temperature=1.0):\n",
        "    # Convert start string to sequence of integers\n",
        "    input_indices = tokenizer.texts_to_sequences([start_string])[0]\n",
        "    input_indices = tf.expand_dims(input_indices, 0)\n",
        "\n",
        "    # Empty string to store our results\n",
        "    text_generated = []\n",
        "\n",
        "    # Here batch size == 1\n",
        "    # model.reset_states()\n",
        "    for _ in range(num_generate):\n",
        "        predictions = model(input_indices)\n",
        "        predictions = tf.squeeze(predictions, 0)\n",
        "\n",
        "        # Apply temperature to predictions\n",
        "        predictions = predictions / temperature\n",
        "\n",
        "        # Sample from predictions\n",
        "        predicted_id = tf.random.categorical(predictions, num_samples=1)[-1, 0].numpy()\n",
        "\n",
        "        # Pass the predicted character as the next input\n",
        "        input_indices = tf.expand_dims([predicted_id], 0)\n",
        "\n",
        "        # Append the character to the generated text\n",
        "        text_generated.append(tokenizer.index_word.get(predicted_id, ''))\n",
        "\n",
        "    return start_string + ''.join(text_generated)\n",
        "\n",
        "# Generate text with default temperature (1.0)\n",
        "print(\"Generated Text with default temperature (1.0):\")\n",
        "print(generate_text(model, tokenizer, start_string=\"ROMEO: \"))\n",
        "\n",
        "# Generate text with higher temperature (1.5)\n",
        "print(\"\\nGenerated Text with higher temperature (1.5):\")\n",
        "print(generate_text(model, tokenizer, start_string=\"ROMEO: \", temperature=1.5))\n"
      ]
    },
    {
      "cell_type": "markdown",
      "metadata": {
        "id": "dHqulMeAc8jD"
      },
      "source": [
        "#### Save the Model"
      ]
    },
    {
      "cell_type": "code",
      "execution_count": null,
      "metadata": {
        "id": "dNaO9x2Ic8AH"
      },
      "outputs": [],
      "source": [
        "model_name = 'text_generation_shakespeare_rnn.h5'\n",
        "model.save(model_name, save_format='h5')"
      ]
    },
    {
      "cell_type": "markdown",
      "metadata": {
        "id": "-N1MSedi1daw"
      },
      "source": [
        "## 2. Stacking RNN Layers and Bi-directional RNNs\n"
      ]
    },
    {
      "cell_type": "code",
      "execution_count": null,
      "metadata": {
        "colab": {
          "base_uri": "https://localhost:8080/",
          "height": 1000
        },
        "id": "mxyD3otQQ482",
        "outputId": "ea611623-6976-439d-8dba-5a62c4e21c86"
      },
      "outputs": [
        {
          "name": "stdout",
          "output_type": "stream",
          "text": [
            "{\n",
            "  ' ' :   1,\n",
            "  'e' :   2,\n",
            "  't' :   3,\n",
            "  'o' :   4,\n",
            "  'a' :   5,\n",
            "  'h' :   6,\n",
            "  's' :   7,\n",
            "  'r' :   8,\n",
            "  'n' :   9,\n",
            "  'i' :  10,\n",
            "  '\\n':  11,\n",
            "  'l' :  12,\n",
            "  'd' :  13,\n",
            "  'u' :  14,\n",
            "  'm' :  15,\n",
            "  'y' :  16,\n",
            "  ',' :  17,\n",
            "  'w' :  18,\n",
            "  'f' :  19,\n",
            "  'c' :  20,\n",
            "  ...\n",
            "}\n",
            "index2char array: [' ' 'e' 't' 'o' 'a' 'h' 's' 'r' 'n' 'i' '\\n' 'l' 'd' 'u' 'm' 'y' ',' 'w'\n",
            " 'f' 'c' 'g' 'I' 'b' 'p' ':' 'v' '.' 'A' 'k' 'T' 'E' \"'\" 'O' 'N' 'R' 'S'\n",
            " 'L' 'C' ';' 'W' 'U' 'H' 'M' 'B' 'G' '?' 'D' '!' 'F' '-' 'Y' 'K' 'P' 'V'\n",
            " 'j' 'q' 'x' 'z' 'J' 'Q' 'Z' 'X' '3' '&' '$']\n",
            "text_as_int length: 1003854\n",
            "'First Citizen:\\n' --> [49, 10, 8, 7, 3, 1, 38, 10, 3, 10, 58, 2, 9, 25, 11]\n",
            "Epoch 1/50\n",
            "\u001b[1m155/155\u001b[0m \u001b[32m━━━━━━━━━━━━━━━━━━━━\u001b[0m\u001b[37m\u001b[0m \u001b[1m20s\u001b[0m 91ms/step - accuracy: 0.2134 - loss: 3.1119\n",
            "Epoch 2/50\n",
            "\u001b[1m155/155\u001b[0m \u001b[32m━━━━━━━━━━━━━━━━━━━━\u001b[0m\u001b[37m\u001b[0m \u001b[1m16s\u001b[0m 88ms/step - accuracy: 0.3720 - loss: 2.2094\n",
            "Epoch 3/50\n",
            "\u001b[1m155/155\u001b[0m \u001b[32m━━━━━━━━━━━━━━━━━━━━\u001b[0m\u001b[37m\u001b[0m \u001b[1m21s\u001b[0m 88ms/step - accuracy: 0.4098 - loss: 2.0399\n",
            "Epoch 4/50\n",
            "\u001b[1m155/155\u001b[0m \u001b[32m━━━━━━━━━━━━━━━━━━━━\u001b[0m\u001b[37m\u001b[0m \u001b[1m16s\u001b[0m 87ms/step - accuracy: 0.4376 - loss: 1.9335\n",
            "Epoch 5/50\n",
            "\u001b[1m155/155\u001b[0m \u001b[32m━━━━━━━━━━━━━━━━━━━━\u001b[0m\u001b[37m\u001b[0m \u001b[1m20s\u001b[0m 89ms/step - accuracy: 0.4553 - loss: 1.8667\n",
            "Epoch 6/50\n",
            "\u001b[1m155/155\u001b[0m \u001b[32m━━━━━━━━━━━━━━━━━━━━\u001b[0m\u001b[37m\u001b[0m \u001b[1m16s\u001b[0m 89ms/step - accuracy: 0.4679 - loss: 1.8169\n",
            "Epoch 7/50\n",
            "\u001b[1m155/155\u001b[0m \u001b[32m━━━━━━━━━━━━━━━━━━━━\u001b[0m\u001b[37m\u001b[0m \u001b[1m15s\u001b[0m 86ms/step - accuracy: 0.4800 - loss: 1.7710\n",
            "Epoch 8/50\n",
            "\u001b[1m155/155\u001b[0m \u001b[32m━━━━━━━━━━━━━━━━━━━━\u001b[0m\u001b[37m\u001b[0m \u001b[1m21s\u001b[0m 89ms/step - accuracy: 0.4865 - loss: 1.7418\n",
            "Epoch 9/50\n",
            "\u001b[1m155/155\u001b[0m \u001b[32m━━━━━━━━━━━━━━━━━━━━\u001b[0m\u001b[37m\u001b[0m \u001b[1m16s\u001b[0m 90ms/step - accuracy: 0.4922 - loss: 1.7191\n",
            "Epoch 10/50\n",
            "\u001b[1m155/155\u001b[0m \u001b[32m━━━━━━━━━━━━━━━━━━━━\u001b[0m\u001b[37m\u001b[0m \u001b[1m22s\u001b[0m 95ms/step - accuracy: 0.4975 - loss: 1.6963\n",
            "Epoch 11/50\n",
            "\u001b[1m155/155\u001b[0m \u001b[32m━━━━━━━━━━━━━━━━━━━━\u001b[0m\u001b[37m\u001b[0m \u001b[1m18s\u001b[0m 99ms/step - accuracy: 0.5023 - loss: 1.6773\n",
            "Epoch 12/50\n",
            "\u001b[1m155/155\u001b[0m \u001b[32m━━━━━━━━━━━━━━━━━━━━\u001b[0m\u001b[37m\u001b[0m \u001b[1m22s\u001b[0m 114ms/step - accuracy: 0.5060 - loss: 1.6646\n",
            "Epoch 13/50\n",
            "\u001b[1m155/155\u001b[0m \u001b[32m━━━━━━━━━━━━━━━━━━━━\u001b[0m\u001b[37m\u001b[0m \u001b[1m19s\u001b[0m 103ms/step - accuracy: 0.5100 - loss: 1.6476\n",
            "Epoch 14/50\n",
            "\u001b[1m155/155\u001b[0m \u001b[32m━━━━━━━━━━━━━━━━━━━━\u001b[0m\u001b[37m\u001b[0m \u001b[1m18s\u001b[0m 98ms/step - accuracy: 0.5138 - loss: 1.6341\n",
            "Epoch 15/50\n",
            "\u001b[1m155/155\u001b[0m \u001b[32m━━━━━━━━━━━━━━━━━━━━\u001b[0m\u001b[37m\u001b[0m \u001b[1m20s\u001b[0m 96ms/step - accuracy: 0.5177 - loss: 1.6199\n",
            "Epoch 16/50\n",
            "\u001b[1m155/155\u001b[0m \u001b[32m━━━━━━━━━━━━━━━━━━━━\u001b[0m\u001b[37m\u001b[0m \u001b[1m20s\u001b[0m 96ms/step - accuracy: 0.5197 - loss: 1.6126\n",
            "Epoch 17/50\n",
            "\u001b[1m155/155\u001b[0m \u001b[32m━━━━━━━━━━━━━━━━━━━━\u001b[0m\u001b[37m\u001b[0m \u001b[1m17s\u001b[0m 97ms/step - accuracy: 0.5197 - loss: 1.6106\n",
            "Epoch 18/50\n",
            "\u001b[1m155/155\u001b[0m \u001b[32m━━━━━━━━━━━━━━━━━━━━\u001b[0m\u001b[37m\u001b[0m \u001b[1m21s\u001b[0m 89ms/step - accuracy: 0.5242 - loss: 1.5955\n",
            "Epoch 19/50\n",
            "\u001b[1m155/155\u001b[0m \u001b[32m━━━━━━━━━━━━━━━━━━━━\u001b[0m\u001b[37m\u001b[0m \u001b[1m20s\u001b[0m 93ms/step - accuracy: 0.5258 - loss: 1.5919\n",
            "Epoch 20/50\n",
            "\u001b[1m155/155\u001b[0m \u001b[32m━━━━━━━━━━━━━━━━━━━━\u001b[0m\u001b[37m\u001b[0m \u001b[1m21s\u001b[0m 91ms/step - accuracy: 0.5265 - loss: 1.5859\n",
            "Epoch 21/50\n",
            "\u001b[1m155/155\u001b[0m \u001b[32m━━━━━━━━━━━━━━━━━━━━\u001b[0m\u001b[37m\u001b[0m \u001b[1m16s\u001b[0m 89ms/step - accuracy: 0.5280 - loss: 1.5794\n",
            "Epoch 22/50\n",
            "\u001b[1m155/155\u001b[0m \u001b[32m━━━━━━━━━━━━━━━━━━━━\u001b[0m\u001b[37m\u001b[0m \u001b[1m16s\u001b[0m 90ms/step - accuracy: 0.5283 - loss: 1.5769\n",
            "Epoch 23/50\n",
            "\u001b[1m155/155\u001b[0m \u001b[32m━━━━━━━━━━━━━━━━━━━━\u001b[0m\u001b[37m\u001b[0m \u001b[1m21s\u001b[0m 94ms/step - accuracy: 0.5296 - loss: 1.5714\n",
            "Epoch 24/50\n",
            "\u001b[1m155/155\u001b[0m \u001b[32m━━━━━━━━━━━━━━━━━━━━\u001b[0m\u001b[37m\u001b[0m \u001b[1m20s\u001b[0m 93ms/step - accuracy: 0.5322 - loss: 1.5640\n",
            "Epoch 25/50\n",
            "\u001b[1m155/155\u001b[0m \u001b[32m━━━━━━━━━━━━━━━━━━━━\u001b[0m\u001b[37m\u001b[0m \u001b[1m16s\u001b[0m 91ms/step - accuracy: 0.5335 - loss: 1.5590\n",
            "Epoch 26/50\n",
            "\u001b[1m155/155\u001b[0m \u001b[32m━━━━━━━━━━━━━━━━━━━━\u001b[0m\u001b[37m\u001b[0m \u001b[1m21s\u001b[0m 91ms/step - accuracy: 0.5341 - loss: 1.5573\n",
            "Epoch 27/50\n",
            "\u001b[1m155/155\u001b[0m \u001b[32m━━━━━━━━━━━━━━━━━━━━\u001b[0m\u001b[37m\u001b[0m \u001b[1m19s\u001b[0m 89ms/step - accuracy: 0.5338 - loss: 1.5547\n",
            "Epoch 28/50\n",
            "\u001b[1m155/155\u001b[0m \u001b[32m━━━━━━━━━━━━━━━━━━━━\u001b[0m\u001b[37m\u001b[0m \u001b[1m16s\u001b[0m 87ms/step - accuracy: 0.5353 - loss: 1.5494\n",
            "Epoch 29/50\n",
            "\u001b[1m155/155\u001b[0m \u001b[32m━━━━━━━━━━━━━━━━━━━━\u001b[0m\u001b[37m\u001b[0m \u001b[1m16s\u001b[0m 86ms/step - accuracy: 0.5373 - loss: 1.5434\n",
            "Epoch 30/50\n",
            "\u001b[1m155/155\u001b[0m \u001b[32m━━━━━━━━━━━━━━━━━━━━\u001b[0m\u001b[37m\u001b[0m \u001b[1m20s\u001b[0m 87ms/step - accuracy: 0.5369 - loss: 1.5437\n",
            "Epoch 31/50\n",
            "\u001b[1m155/155\u001b[0m \u001b[32m━━━━━━━━━━━━━━━━━━━━\u001b[0m\u001b[37m\u001b[0m \u001b[1m16s\u001b[0m 88ms/step - accuracy: 0.5388 - loss: 1.5381\n",
            "Epoch 32/50\n",
            "\u001b[1m155/155\u001b[0m \u001b[32m━━━━━━━━━━━━━━━━━━━━\u001b[0m\u001b[37m\u001b[0m \u001b[1m15s\u001b[0m 86ms/step - accuracy: 0.5393 - loss: 1.5374\n",
            "Epoch 33/50\n",
            "\u001b[1m155/155\u001b[0m \u001b[32m━━━━━━━━━━━━━━━━━━━━\u001b[0m\u001b[37m\u001b[0m \u001b[1m16s\u001b[0m 87ms/step - accuracy: 0.5395 - loss: 1.5318\n",
            "Epoch 34/50\n",
            "\u001b[1m155/155\u001b[0m \u001b[32m━━━━━━━━━━━━━━━━━━━━\u001b[0m\u001b[37m\u001b[0m \u001b[1m15s\u001b[0m 87ms/step - accuracy: 0.5414 - loss: 1.5281\n",
            "Epoch 35/50\n",
            "\u001b[1m155/155\u001b[0m \u001b[32m━━━━━━━━━━━━━━━━━━━━\u001b[0m\u001b[37m\u001b[0m \u001b[1m16s\u001b[0m 87ms/step - accuracy: 0.5405 - loss: 1.5294\n",
            "Epoch 36/50\n",
            "\u001b[1m155/155\u001b[0m \u001b[32m━━━━━━━━━━━━━━━━━━━━\u001b[0m\u001b[37m\u001b[0m \u001b[1m20s\u001b[0m 87ms/step - accuracy: 0.5411 - loss: 1.5261\n",
            "Epoch 37/50\n",
            "\u001b[1m155/155\u001b[0m \u001b[32m━━━━━━━━━━━━━━━━━━━━\u001b[0m\u001b[37m\u001b[0m \u001b[1m21s\u001b[0m 85ms/step - accuracy: 0.5406 - loss: 1.5290\n",
            "Epoch 38/50\n",
            "\u001b[1m155/155\u001b[0m \u001b[32m━━━━━━━━━━━━━━━━━━━━\u001b[0m\u001b[37m\u001b[0m \u001b[1m16s\u001b[0m 86ms/step - accuracy: 0.5432 - loss: 1.5208\n",
            "Epoch 39/50\n",
            "\u001b[1m155/155\u001b[0m \u001b[32m━━━━━━━━━━━━━━━━━━━━\u001b[0m\u001b[37m\u001b[0m \u001b[1m20s\u001b[0m 91ms/step - accuracy: 0.5427 - loss: 1.5208\n",
            "Epoch 40/50\n",
            "\u001b[1m155/155\u001b[0m \u001b[32m━━━━━━━━━━━━━━━━━━━━\u001b[0m\u001b[37m\u001b[0m \u001b[1m21s\u001b[0m 86ms/step - accuracy: 0.5440 - loss: 1.5164\n",
            "Epoch 41/50\n",
            "\u001b[1m155/155\u001b[0m \u001b[32m━━━━━━━━━━━━━━━━━━━━\u001b[0m\u001b[37m\u001b[0m \u001b[1m19s\u001b[0m 86ms/step - accuracy: 0.5445 - loss: 1.5142\n",
            "Epoch 42/50\n",
            "\u001b[1m155/155\u001b[0m \u001b[32m━━━━━━━━━━━━━━━━━━━━\u001b[0m\u001b[37m\u001b[0m \u001b[1m16s\u001b[0m 88ms/step - accuracy: 0.5440 - loss: 1.5147\n",
            "Epoch 43/50\n",
            "\u001b[1m155/155\u001b[0m \u001b[32m━━━━━━━━━━━━━━━━━━━━\u001b[0m\u001b[37m\u001b[0m \u001b[1m21s\u001b[0m 88ms/step - accuracy: 0.5443 - loss: 1.5132\n",
            "Epoch 44/50\n",
            "\u001b[1m155/155\u001b[0m \u001b[32m━━━━━━━━━━━━━━━━━━━━\u001b[0m\u001b[37m\u001b[0m \u001b[1m23s\u001b[0m 105ms/step - accuracy: 0.5447 - loss: 1.5138\n",
            "Epoch 45/50\n",
            "\u001b[1m155/155\u001b[0m \u001b[32m━━━━━━━━━━━━━━━━━━━━\u001b[0m\u001b[37m\u001b[0m \u001b[1m16s\u001b[0m 82ms/step - accuracy: 0.5455 - loss: 1.5116\n",
            "Epoch 46/50\n",
            "\u001b[1m155/155\u001b[0m \u001b[32m━━━━━━━━━━━━━━━━━━━━\u001b[0m\u001b[37m\u001b[0m \u001b[1m16s\u001b[0m 86ms/step - accuracy: 0.5472 - loss: 1.5054\n",
            "Epoch 47/50\n",
            "\u001b[1m155/155\u001b[0m \u001b[32m━━━━━━━━━━━━━━━━━━━━\u001b[0m\u001b[37m\u001b[0m \u001b[1m20s\u001b[0m 86ms/step - accuracy: 0.5458 - loss: 1.5090\n",
            "Epoch 48/50\n",
            "\u001b[1m155/155\u001b[0m \u001b[32m━━━━━━━━━━━━━━━━━━━━\u001b[0m\u001b[37m\u001b[0m \u001b[1m15s\u001b[0m 87ms/step - accuracy: 0.5452 - loss: 1.5082\n",
            "Epoch 49/50\n",
            "\u001b[1m155/155\u001b[0m \u001b[32m━━━━━━━━━━━━━━━━━━━━\u001b[0m\u001b[37m\u001b[0m \u001b[1m16s\u001b[0m 87ms/step - accuracy: 0.5468 - loss: 1.5040\n",
            "Epoch 50/50\n",
            "\u001b[1m155/155\u001b[0m \u001b[32m━━━━━━━━━━━━━━━━━━━━\u001b[0m\u001b[37m\u001b[0m \u001b[1m21s\u001b[0m 89ms/step - accuracy: 0.5470 - loss: 1.5041\n"
          ]
        },
        {
          "data": {
            "image/png": "[encoded data removed]",
            "text/plain": [
              "<Figure size 640x480 with 1 Axes>"
            ]
          },
          "metadata": {},
          "output_type": "display_data"
        },
        {
          "name": "stdout",
          "output_type": "stream",
          "text": [
            "Dataset shape:\n",
            "- Number of batches: 155\n",
            "- Sequences per batch: 64\n",
            "- Each sequence is a tuple of 2 sub-sequences of length 100 (input_text and target_text)\n"
          ]
        }
      ],
      "source": [
        "\n",
        "\n",
        "# Parameters\n",
        "BATCH_SIZE = 64\n",
        "BUFFER_SIZE = 10000\n",
        "embedding_dim = 128\n",
        "max_sequence_length = 100  # Example sequence length\n",
        "\n",
        "# Load and preprocess the Tiny Shakespeare dataset\n",
        "ds = tfds.load('tiny_shakespeare', split='train')\n",
        "ds = ds.map(lambda x: x['text'])  # Extract only the text data\n",
        "\n",
        "# Concatenate all text into one large string\n",
        "text = \"\"\n",
        "for text_batch in ds.as_numpy_iterator():\n",
        "    text += text_batch.decode('utf-8')  # Decode each text part\n",
        "\n",
        "# Initialize the tokenizer\n",
        "tokenizer = Tokenizer(char_level=True, lower=False)  # char_level=True treats each character as a token\n",
        "tokenizer.fit_on_texts([text])\n",
        "\n",
        "# Step 1: Map characters to their indices in vocabulary\n",
        "char2index = tokenizer.word_index\n",
        "\n",
        "print('{')\n",
        "for char, _ in zip(char2index, range(20)):\n",
        "    print('  {:4s}: {:3d},'.format(repr(char), char2index[char]))\n",
        "print('  ...\\n}')\n",
        "\n",
        "# Step 2: Map character indices to characters\n",
        "index2char = {index: char for char, index in char2index.items()}\n",
        "index2char_array = np.array([char for _, char in sorted(index2char.items())])\n",
        "\n",
        "# Print the mapping\n",
        "print('index2char array:', index2char_array)\n",
        "\n",
        "# Step 3: Convert chars in text to indices\n",
        "text_as_int = tokenizer.texts_to_sequences([text])[0]\n",
        "\n",
        "# Print the length of text_as_int and the first 15 character mappings\n",
        "print('text_as_int length: {}'.format(len(text_as_int)))\n",
        "print('{} --> {}'.format(repr(text[:15]), repr(text_as_int[:15])))\n",
        "\n",
        "# Create dataset\n",
        "def create_dataset(text_as_int, batch_size, seq_length):\n",
        "    sequences = tf.data.Dataset.from_tensor_slices(text_as_int)\n",
        "    sequences = sequences.batch(seq_length + 1, drop_remainder=True)\n",
        "    dataset = sequences.map(lambda x: (x[:-1], x[1:]))  # Use shifted sequences for training\n",
        "    dataset = dataset.shuffle(BUFFER_SIZE).batch(batch_size, drop_remainder=True)\n",
        "    return dataset\n",
        "\n",
        "dataset = create_dataset(text_as_int, BATCH_SIZE, max_sequence_length)\n",
        "\n",
        "# Model definition\n",
        "model = tf.keras.Sequential([\n",
        "    tf.keras.layers.Embedding(input_dim=len(tokenizer.word_index) + 1, output_dim=embedding_dim),\n",
        "    tf.keras.layers.SimpleRNN(128, return_sequences=True),\n",
        "    tf.keras.layers.Dense(len(tokenizer.word_index) + 1)\n",
        "])\n",
        "\n",
        "# Compile the model\n",
        "model.compile(optimizer='adam', loss=tf.keras.losses.SparseCategoricalCrossentropy(from_logits=True), metrics=['accuracy'])\n",
        "\n",
        "# Train the model\n",
        "history = model.fit(dataset, epochs=50, verbose=1)\n",
        "\n",
        "# Visualize training history\n",
        "def render_training_history(training_history):\n",
        "    loss = training_history.history['loss']\n",
        "    plt.title('Loss')\n",
        "    plt.xlabel('Epoch')\n",
        "    plt.ylabel('Loss')\n",
        "    plt.plot(loss, label='Training set')\n",
        "    plt.legend()\n",
        "    plt.grid(linestyle='--', linewidth=1, alpha=0.5)\n",
        "    plt.show()\n",
        "\n",
        "render_training_history(history)\n",
        "\n",
        "# Dataset shape summary\n",
        "num_batches = len(list(dataset.as_numpy_iterator()))\n",
        "sequences_per_batch = BATCH_SIZE\n",
        "sequence_length = max_sequence_length\n",
        "\n",
        "print(f\"Dataset shape:\")\n",
        "print(f\"- Number of batches: {num_batches}\")\n",
        "print(f\"- Sequences per batch: {sequences_per_batch}\")\n",
        "print(f\"- Each sequence is a tuple of 2 sub-sequences of length {sequence_length} (input_text and target_text)\")\n"
      ]
    },
    {
      "cell_type": "code",
      "execution_count": null,
      "metadata": {
        "colab": {
          "base_uri": "https://localhost:8080/"
        },
        "id": "eRVD2V0eRbuH",
        "outputId": "97b7bc65-b83c-42cf-d3d8-7706bc2d56cf"
      },
      "outputs": [
        {
          "name": "stdout",
          "output_type": "stream",
          "text": [
            "ROMEO: IUS:\n",
            "RTy wit y hedse pan t, noul 'R:\n",
            "DUS norsw shef t I'd mene mpled y, gee yong Co, s tir heses stal. arulde IUCK:\n",
            "Whe, tin hethy bitanifoneanondid Ange d ar\n",
            "MENRY d crorsen, sord tht iresare,\n",
            "IUCHoly, welotowingoumy, hid osevot ye!\n",
            "BERI oly handst,\n",
            "CE'der;\n",
            "IUS\n",
            "Sed niscee,\n",
            "INESur d ar at ld the nde-IUCHAst ale th hine panirag west at:\n",
            "PENCHBy, beld, the pre s leatheat fon'd.\n",
            "BUS.\n",
            "Acouft tr t is mof arour!\n",
            "Fingr hessthamivoun t bow urethinag aknd thitr an? ry fe, manedenid tee th sepathe?\n",
            "YONCUCEdscar, bry oreat couho.\n",
            "Alakit, minge irit taugeds:\n",
            "BES y t; ole s.\n",
            "Thalipllfry't cigares igres, ll m n D ranit nt he wors mat\n",
            "Clver y atharse s be wacul mpand n IO:\n",
            "Ed ar wit, hant fr I'd sh y werdu n t thir, lise mil te't,\n",
            "BO:\n",
            "Tyound I n lupame:\n",
            "Trire et, he a w be t, is s,\n",
            "INI bl pi cownors s,\n",
            "Hand ondidice of pare prsth, t ishomy totst, ton he! smoly t gathavedipory bale doweroutin x: hilog hourer At didarshind t?\n",
            "Warsthece my inglle nedin ISe y I thysquly, ndip.\n",
            "JOMIUCLBurselele tof be sch\n"
          ]
        }
      ],
      "source": [
        "# Function to generate text\n",
        "def generate_text(model, start_string, num_generate=1000, temperature=1.0):\n",
        "    \"\"\"\n",
        "    Generates text using a trained model.\n",
        "\n",
        "    Parameters:\n",
        "    - model: The trained model used for generating text.\n",
        "    - start_string: The initial string to start generating text from.\n",
        "    - num_generate: The number of characters to generate.\n",
        "    - temperature: Controls the randomness of predictions by scaling logits before applying softmax.\n",
        "                   Lower values make the output more predictable.\n",
        "\n",
        "    Returns:\n",
        "    - A string containing the start_string followed by generated text.\n",
        "    \"\"\"\n",
        "\n",
        "    # Convert start string to indices using the tokenizer's char2index mapping\n",
        "    input_indices = tokenizer.texts_to_sequences([start_string])[0]\n",
        "    input_indices = tf.expand_dims(input_indices, 0)  # Add batch dimension\n",
        "\n",
        "    # Empty list to store the generated text\n",
        "    text_generated = []\n",
        "\n",
        "    # Reset the model's states before starting the generation process\n",
        "    # model.reset_states()\n",
        "\n",
        "    for char_index in range(num_generate):\n",
        "        # Get predictions from the model\n",
        "        predictions = model(input_indices)\n",
        "\n",
        "        # Remove the batch dimension\n",
        "        predictions = tf.squeeze(predictions, 0)\n",
        "\n",
        "        # Adjust predictions based on the temperature setting\n",
        "        predictions = predictions / temperature\n",
        "\n",
        "        # Predict the next character using a categorical distribution\n",
        "        predicted_id = tf.random.categorical(predictions, num_samples=1)[-1, 0].numpy()\n",
        "\n",
        "        # Pass the predicted character's index as the next input to the model\n",
        "        input_indices = tf.expand_dims([predicted_id], 0)\n",
        "\n",
        "        # Convert predicted_id back to a character using the index2char mapping and append to generated text\n",
        "        text_generated.append(index2char[predicted_id])\n",
        "\n",
        "    # Combine the start string with the generated characters\n",
        "    return start_string + ''.join(text_generated)\n",
        "\n",
        "# Generate and print text starting with \"ROMEO: \"\n",
        "print(generate_text(model, start_string=\"ROMEO: \"))\n"
      ]
    },
    {
      "cell_type": "code",
      "execution_count": null,
      "metadata": {
        "colab": {
          "base_uri": "https://localhost:8080/"
        },
        "id": "P9h7afIQZETh",
        "outputId": "7644277b-b685-4f95-c2e3-a30611ba9b9c"
      },
      "outputs": [
        {
          "name": "stdout",
          "output_type": "stream",
          "text": [
            "Generated text with temperature 0.5:\n",
            "ROMEO: INEm at t thersthithtoulome t within t are t the the is the f me ll thes th me t roushe the I ho are thed t he the me the theld athing ly t allanand are he me ofr bouse hilithof she melis, sed d gour par hes ban t be w, be wh, the fre d s t s mersthed ne the t se hollit t wis thedswhesthe he he llathe ted g we whe y wireshe hake thof than t he t ar mars she ond be I thenge stherelin are the If I t the s t lithe winowe wige are thoulonde I t he d t winde bust bonge s beares l, he s.\n",
            "O:\n",
            "O:\n",
            "I me t t d ng t I y I hethe he choure s there mall hit br hars t ire houre t t t, st he he houre ban e thand thes, heloulonchen tounononed hellly he ds bouthond the the f hined wes y bothe belor arede malllll be m thin wit m se be I thon he te t we wef on the CARARWhed make t he wit be, n thin the bol minourstho me me t it in horousthon st dses thane ly horelll the the bul helathe on or\n",
            "ENINCHout t:\n",
            "I at me me the the s t t t, bre t housthe toure an t f t s bothe wirepr heve orore nore t ff thes me y t\n",
            "Generated text with temperature 1.0:\n",
            "ROMEO: ly f hthilis lf ifld quse hirige mowhn\n",
            "Ty anofourure ff th!\n",
            "RMIf prs d\n",
            "Hacke mirse re we ofone mirin sonis\n",
            "Wause hageak, wives! mowit t winted me nound orive,\n",
            "O:\n",
            "I ouroranCHofoulye hthe!\n",
            "CAndstarout shawo d arugr e t:\n",
            "H:\n",
            "Thoulkefabre in gochiveror gepoux:\n",
            "FFoulyongofushwhmed thet owive htag t h caresar'd rs pllly nuranesathecece wid Wit burid t h, a clit s al ly d t.\n",
            "Howing h, qut\n",
            "ORINGo hamoule I:\n",
            "Tw, mequsene Maneke, igery hororstre winciroroprer?\n",
            "OP:\n",
            "AThr, y sakirs shof, thenorechtham sharealanolome, f med\n",
            "ARCLO:\n",
            "Bulacust:\n",
            "OR\n",
            "ANGopar?\n",
            "HIN chowiodell tot l hiould bethin KI:\n",
            "DW:\n",
            "CHAchanere fu\n",
            "Th, tn ICHULAcl, cchanus, h I wive d and s f petove! lkevirovearousouccke d bowe ma?\n",
            "L thththel baref ofote'dshitalepourovilys ithevolonghil\n",
            "O:\n",
            "Bour; ws CA ty utris; y, t y tht;\n",
            "IF IULe andshivis be war\n",
            "Bore, solounontieva t, blare am besthore me han,\n",
            "VI arupror usp of be t l t, vere fffrit big mar lus athit\n",
            "Mer IORe pofrirst hat, t, s seronun ilage at,\n",
            "K:\n",
            "CHA y delour?\n",
            "Whon ly boutho tand pe\n",
            "Tyo\n",
            "Generated text with temperature 1.5:\n",
            "ROMEO: It. meve wids ok fre IZTonCo:\n",
            "BO?\n",
            "\n",
            "BELO!\n",
            "H,\n",
            "Wavin olivy mea!\n",
            "HOTwall,\n",
            "ENUS\n",
            "Thoucho edes.\n",
            "D Putaminilf tho, htunzourongro llay ioNe me, d, desex Hon bof ille yo f l Weecedshere'eff\n",
            "T3, ber, d, he; prspaloucre bu CowinigoHanulit, pe:\n",
            "HOP, tators!\n",
            "omes,\n",
            "KIHerot ty JO, s abNCAd o.\n",
            "RWe we'delvin maryMur honede nd chougeyeroth at,\n",
            "BUpom\n",
            "Clo wizBoussokes yow nat hongil hitst hin ak\n",
            "NENTCETEd e I Pe bivix f owho,\n",
            "Hevila whofoninghowa$\n",
            "scod rs iventipa, ugr ttre t'dousy.\n",
            "C t\n",
            "RDuchourewoul te kEamedideameveyo-ly tomanige vinacourid\n",
            "D mof pedrere maban lblathicentr t; A! Wh tthintat s ur seanalit?\n",
            "angevoryen's\n",
            "watweshuncat R\n",
            "WAlistarull, I'd\n",
            "RAr:\n",
            "He,\n",
            "I'derar mabicuster pore Hattusw m.\n",
            "Twelorst sist thirabevee cqutheqund r, t, gar\n",
            "Toufrirepampswher brigave ry;\n",
            "Bomiveelanerst b!'rin inco.\n",
            "E's, blit;\n",
            "-m k'tl, IESSugeatigr JOLiseven ntit\n",
            "RWAUnent, she dixTyowed, inelofr fuchwns, awhte tivoushulolirigo s ht\n",
            "Ty thirofs:\n",
            "Hedrongs, ta\n",
            "my chot,\n",
            "Se we llu whiren,\n",
            "IO:\n",
            "OMakit, diforsom awnofo-sitho,\n",
            "Sechigro\n"
          ]
        }
      ],
      "source": [
        "# Generate text with different temperature settings\n",
        "print(\"Generated text with temperature 0.5:\")\n",
        "print(generate_text(model, start_string=\"ROMEO: \", temperature=0.5))\n",
        "\n",
        "print(\"Generated text with temperature 1.0:\")\n",
        "print(generate_text(model, start_string=\"ROMEO: \", temperature=1.0))\n",
        "\n",
        "print(\"Generated text with temperature 1.5:\")\n",
        "print(generate_text(model, start_string=\"ROMEO: \", temperature=1.5))\n"
      ]
    }
  ],
  "metadata": {
    "accelerator": "GPU",
    "colab": {
      "gpuType": "T4",
      "provenance": [],
      "toc_visible": true
    },
    "kernelspec": {
      "display_name": "Python 3",
      "name": "python3"
    },
    "language_info": {
      "name": "python"
    }
  },
  "nbformat": 4,
  "nbformat_minor": 0
}
